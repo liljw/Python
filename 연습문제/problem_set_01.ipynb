{
 "cells": [
  {
   "cell_type": "markdown",
   "metadata": {},
   "source": [
    "## 모음 제거하기\n",
    "\n",
    "> 다음 문장의 모음을 제거한 새로운 문자열을 출력하세요.\n",
    "\n",
    "---\n",
    "\n",
    "\n",
    "**[입력 예시]**\n",
    "\n",
    "`'Life is too short, you need python'`\n",
    "\n",
    "**[출력 예시]**\n",
    "\n",
    "`Lf s t shrt, y nd pythn`"
   ]
  },
  {
   "cell_type": "code",
   "execution_count": 1,
   "metadata": {},
   "outputs": [],
   "source": [
    "my_str = 'Life is too short, you need python'\n",
    "\n",
    "# 아래에 코드를 작성하세요."
   ]
  },
  {
   "cell_type": "code",
   "execution_count": 11,
   "metadata": {},
   "outputs": [
    {
     "ename": "SyntaxError",
     "evalue": "invalid syntax (1313531365.py, line 1)",
     "output_type": "error",
     "traceback": [
      "\u001b[0;36m  Cell \u001b[0;32mIn[11], line 1\u001b[0;36m\u001b[0m\n\u001b[0;31m    type(if 'e' in my_str)\u001b[0m\n\u001b[0m         ^\u001b[0m\n\u001b[0;31mSyntaxError\u001b[0m\u001b[0;31m:\u001b[0m invalid syntax\n"
     ]
    }
   ],
   "source": [
    "type(if 'e' in my_str)"
   ]
  },
  {
   "cell_type": "code",
   "execution_count": 28,
   "metadata": {},
   "outputs": [
    {
     "name": "stdout",
     "output_type": "stream",
     "text": [
      "Lif is too short, you nd python\n",
      "Lfe s too short, you need python\n",
      "Life is t shrt, yu need pythn\n",
      "Life is too short, yo need python\n"
     ]
    }
   ],
   "source": [
    "# my_str.replace('a', ' ')\n",
    "\n",
    "# my_str.replace('e', ' ')\n",
    "\n",
    "# my_str.replace('i', ' ')\n",
    "\n",
    "# my_str.replace('o', ' ')\n",
    "\n",
    "# my_str.replace('u', ' ')\n",
    "\n",
    "vowels = 'aeiou'\n",
    "\n",
    "new_str = 'my_str.replace(vowel, '')'\n",
    "\n",
    "for vowel in vowels:\n",
    "    if vowel in my_str:\n",
    "        print(my_str.replace(vowel, ''))"
   ]
  },
  {
   "cell_type": "code",
   "execution_count": 27,
   "metadata": {},
   "outputs": [
    {
     "ename": "SyntaxError",
     "evalue": "invalid syntax (3549481823.py, line 1)",
     "output_type": "error",
     "traceback": [
      "\u001b[0;36m  Cell \u001b[0;32mIn[27], line 1\u001b[0;36m\u001b[0m\n\u001b[0;31m    my_str.replace(vowel, '') for vowel in vowels:\u001b[0m\n\u001b[0m                              ^\u001b[0m\n\u001b[0;31mSyntaxError\u001b[0m\u001b[0;31m:\u001b[0m invalid syntax\n"
     ]
    }
   ],
   "source": [
    "my_str.replace(vowel, '') for vowel in vowels:\n",
    "    if vowel in my_str:\n",
    "        print(my_str.replace(vowel, ''))"
   ]
  },
  {
   "cell_type": "code",
   "execution_count": 61,
   "metadata": {},
   "outputs": [
    {
     "name": "stdout",
     "output_type": "stream",
     "text": [
      "Lf s t shrt, y nd pythn\n"
     ]
    }
   ],
   "source": [
    "new_str = ''\n",
    "\n",
    "for char in my_str:\n",
    "    if char not in 'aeiou':\n",
    "        new_str += char\n",
    "        \n",
    "print(new_str)"
   ]
  },
  {
   "cell_type": "code",
   "execution_count": 63,
   "metadata": {},
   "outputs": [
    {
     "name": "stdout",
     "output_type": "stream",
     "text": [
      "Lf s t shrt, y nd pythn\n"
     ]
    }
   ],
   "source": [
    "new_str = ''\n",
    "\n",
    "for char in my_str:\n",
    "    if char not in 'aeiou':\n",
    "        new_str += char\n",
    "\n",
    "print(new_str)"
   ]
  },
  {
   "cell_type": "markdown",
   "metadata": {},
   "source": [
    "## 과일 개수 골라내기\n",
    "\n",
    "> 내 장바구니에 과일이 몇 개인지, 과일이 아닌 것은 몇개인지 출력하세요.\n",
    ">\n",
    "> 장바구니에 담긴 과일과, 과일 판별 리스트는 다음과 같습니다.\n",
    "> ```python\n",
    "> basket_items = {'apples': 4, 'oranges': 19, 'kites': 3, 'sandwiches': 8}\n",
    "> fruits = ['apples', 'oranges', 'pears', 'peaches', 'grapes', 'bananas']\n",
    "> ```\n",
    "\n",
    "---\n",
    "\n",
    "**[출력 예시]**\n",
    "\n",
    "과일은 23개이고, 11개는 과일이 아닙니다."
   ]
  },
  {
   "cell_type": "code",
   "execution_count": 66,
   "metadata": {},
   "outputs": [
    {
     "data": {
      "text/plain": [
       "4"
      ]
     },
     "execution_count": 66,
     "metadata": {},
     "output_type": "execute_result"
    }
   ],
   "source": [
    "basket_items = {'apples': 4, 'oranges': 19, 'kites': 3, 'sandwiches': 8}\n",
    "fruits = ['apples', 'oranges', 'pears', 'peaches', 'grapes', 'bananas']\n",
    "\n",
    "basket_items['apples']\n",
    "\n",
    "\n",
    "# 아래에 코드를 작성하세요."
   ]
  },
  {
   "cell_type": "code",
   "execution_count": 53,
   "metadata": {},
   "outputs": [
    {
     "name": "stdout",
     "output_type": "stream",
     "text": [
      "['apples', 'oranges']\n",
      "[4, 19]\n",
      "과일은 2개이고, 2개는 과일이 아닙니다.\n"
     ]
    }
   ],
   "source": [
    "basket_items = {'apples': 4, 'oranges': 19, 'kites': 3, 'sandwiches': 8}\n",
    "fruits = ['apples', 'oranges', 'pears', 'peaches', 'grapes', 'bananas']\n",
    "\n",
    "\n",
    "\n",
    "# for fruit in fruits:\n",
    "#     if fruit in basket_items.keys():\n",
    "#         print(fruit)\n",
    "#     if fruit in basket_items.keys():\n",
    "#         print(basket_items[fruit])\n",
    "\n",
    "l = []\n",
    "l2 = []\n",
    "\n",
    "for fruit in fruits:\n",
    "    if fruit in basket_items.keys():\n",
    "        l.append(fruit)\n",
    "    if fruit in basket_items.keys():\n",
    "        l2.append(basket_items[fruit])\n",
    "        \n",
    "print(l)\n",
    "\n",
    "print(l2)\n",
    "\n",
    "num_fruit = len(l)\n",
    "\n",
    "num_nonfruit = len(basket_items.values()) - num_fruit\n",
    "\n",
    "\n",
    "    \n",
    "\n",
    "# num_fruit = for fruit in fruits:\n",
    "#     if fruit in basket_items.keys():\n",
    "#         print(fruit)\n",
    "        \n",
    "# num_nonfruit = for fruit in fruits:\n",
    "#     if fruit in basket_items.keys():\n",
    "#         print(fruit)\n",
    "#     if fruit in basket_items.keys():\n",
    "#         print(basket_items[fruit])\n",
    "\n",
    "print(f'과일은 {num_fruit}개이고, {num_nonfruit}개는 과일이 아닙니다.')\n",
    "        \n"
   ]
  },
  {
   "cell_type": "code",
   "execution_count": null,
   "metadata": {},
   "outputs": [],
   "source": [
    "fruit_count = non_fruit_count = 0\n",
    "\n",
    "# KEY 만 꺼내기\n",
    "for key in basket_items:\n",
    "    if key in fruits:\n",
    "        fruit_count += basket_items[key]\n",
    "    else:\n",
    "        non_fruit_count += basket_items[key]\n",
    "        \n",
    "print(f'과일은 {fruit_count}개이고, {non_fruit_count}개는 과일이 아닙니다.' )"
   ]
  },
  {
   "cell_type": "markdown",
   "metadata": {},
   "source": [
    "## 영어 이름 출력하기 \n",
    "\n",
    "> 영어 이름은 가운데 이름을 가지고 있는 경우가 있습니다.\n",
    ">\n",
    "> 가운데 이름은 대문자로 축약해서 나타내는 코드를 작성하세요.\n",
    "\n",
    "---\n",
    "**[입력 예시]**\n",
    "\n",
    "Alice Betty Catherine Davis\n",
    "\n",
    "**[출력 예시]**\n",
    "\n",
    "Alice B. C. Davis"
   ]
  },
  {
   "cell_type": "code",
   "execution_count": 33,
   "metadata": {},
   "outputs": [],
   "source": [
    "name = 'Alice Betty Catherine Davis'\n",
    "names = name.split()\n",
    "\n",
    "# 아래에 코드를 작성하세요. \n",
    "\n",
    "# HINT: 비어있는 문자열에 다른 문자열을 더해서 쌓아 나갈 수 있습니다\n",
    "# s = ''\n",
    "# s += 'abc'\n",
    "# s += 'def'\n",
    "# print(s)  => 'abcdef'"
   ]
  },
  {
   "cell_type": "code",
   "execution_count": 59,
   "metadata": {},
   "outputs": [
    {
     "name": "stdout",
     "output_type": "stream",
     "text": [
      "['Alice', 'Betty', 'Catherine', 'Davis']\n"
     ]
    },
    {
     "ename": "TypeError",
     "evalue": "unsupported operand type(s) for -: 'list' and 'list'",
     "output_type": "error",
     "traceback": [
      "\u001b[0;31m---------------------------------------------------------------------------\u001b[0m",
      "\u001b[0;31mTypeError\u001b[0m                                 Traceback (most recent call last)",
      "Cell \u001b[0;32mIn[59], line 6\u001b[0m\n\u001b[1;32m      2\u001b[0m names \u001b[38;5;241m=\u001b[39m name\u001b[38;5;241m.\u001b[39msplit()\n\u001b[1;32m      4\u001b[0m \u001b[38;5;28mprint\u001b[39m(names)\n\u001b[0;32m----> 6\u001b[0m \u001b[43mnames\u001b[49m\u001b[43m \u001b[49m\u001b[38;5;241;43m-\u001b[39;49m\u001b[43m \u001b[49m\u001b[43m[\u001b[49m\u001b[43mnames\u001b[49m\u001b[43m[\u001b[49m\u001b[38;5;241;43m1\u001b[39;49m\u001b[43m]\u001b[49m\u001b[43m]\u001b[49m\n",
      "\u001b[0;31mTypeError\u001b[0m: unsupported operand type(s) for -: 'list' and 'list'"
     ]
    }
   ],
   "source": [
    "name = 'Alice Betty Catherine Davis'\n",
    "names = name.split()\n",
    "\n",
    "print(names)\n",
    "\n",
    "names - [names[1]]"
   ]
  },
  {
   "cell_type": "code",
   "execution_count": null,
   "metadata": {},
   "outputs": [],
   "source": [
    "new_name = ''\n"
   ]
  },
  {
   "cell_type": "code",
   "execution_count": 67,
   "metadata": {},
   "outputs": [
    {
     "name": "stdout",
     "output_type": "stream",
     "text": [
      "Alice B. C. Davis \n"
     ]
    }
   ],
   "source": [
    "new_name = ''\n",
    "\n",
    "for idx, name in enumerate(names):\n",
    "    if idx == 0 or idx == len(names)-1:\n",
    "        new_name += f'{name} '\n",
    "    else:\n",
    "        new_name += f'{name[0]}. '\n",
    "\n",
    "print(new_name)"
   ]
  }
 ],
 "metadata": {
  "kernelspec": {
   "display_name": "Python 3 (ipykernel)",
   "language": "python",
   "name": "python3"
  },
  "language_info": {
   "codemirror_mode": {
    "name": "ipython",
    "version": 3
   },
   "file_extension": ".py",
   "mimetype": "text/x-python",
   "name": "python",
   "nbconvert_exporter": "python",
   "pygments_lexer": "ipython3",
   "version": "3.10.10"
  },
  "toc": {
   "base_numbering": 1,
   "nav_menu": {},
   "number_sections": true,
   "sideBar": true,
   "skip_h1_title": false,
   "title_cell": "Table of Contents",
   "title_sidebar": "Contents",
   "toc_cell": false,
   "toc_position": {},
   "toc_section_display": true,
   "toc_window_display": false
  }
 },
 "nbformat": 4,
 "nbformat_minor": 2
}

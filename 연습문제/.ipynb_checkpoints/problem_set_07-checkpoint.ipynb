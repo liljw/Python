{
 "cells": [
  {
   "cell_type": "markdown",
   "metadata": {},
   "source": [
    "# 메소드 없는 세상\n",
    "\n",
    "> 우리는 문자열을 만들어 나갈 때, `.join(iterable)` 함수를 사용합니다. \n",
    ">\n",
    "> `.join(iterable)`이 생각나지 않을 때를 위해 함수를 직접 만들어보면서 감사함을 느껴봅시다.\n",
    ">\n",
    "> 함수 `my_join(target, word)`를 작성하여 문자열을 반환하세요.\n",
    ">\n",
    "> `target`은 바꿀 대상(iterable)이며, `word`는 합쳐지는 단어입니다. \n",
    "\n",
    "---\n",
    "\n",
    "\n",
    "예시)\n",
    "\n",
    "`''.join(a)` 와 `my_join(a, '')`은 같은 함수 호출입니다.\n",
    "\n",
    "```python\n",
    "print(my_join('배고파', '.')) # => 배.고.파\n",
    "print(my_join(['1', '2', '3'], '')) # => 123\n",
    "```"
   ]
  },
  {
   "cell_type": "code",
   "execution_count": 22,
   "metadata": {},
   "outputs": [],
   "source": [
    "# 아래에 코드를 작성하세요."
   ]
  },
  {
   "cell_type": "code",
   "execution_count": 23,
   "metadata": {},
   "outputs": [],
   "source": [
    "def my_join(target, word):\n",
    "    if type(target) == list:\n",
    "        pass\n",
    "    else: target = list(target)\n",
    "        \n",
    "    new_list = \"\"\n",
    "    \n",
    "    for i in target:\n",
    "        new_list += i + word  # 문자열에 추가하는건 이렇게 할 수 있다!! \n",
    "    \n",
    "    return new_list.rstrip(word)\n",
    "    \n",
    "    "
   ]
  },
  {
   "cell_type": "code",
   "execution_count": 24,
   "metadata": {},
   "outputs": [
    {
     "name": "stdout",
     "output_type": "stream",
     "text": [
      "배.고.파\n",
      "123\n"
     ]
    }
   ],
   "source": [
    "# 해당 코드를 통해 올바른 결과가 나오는지 확인하세요.\n",
    "print(my_join('배고파', '.'))\n",
    "print(my_join(['1', '2', '3'], ''))"
   ]
  },
  {
   "cell_type": "markdown",
   "metadata": {},
   "source": [
    "# 숨바꼭질\n",
    "\n",
    "> 숫자가 주어지면, 사용되지 않은 숫자를 프린트하는 함수를 작성하세요.\n",
    "\n",
    "---\n",
    "\n",
    "예시)\n",
    "\n",
    "```python\n",
    "unused_digits(12, 34, 56, 78) # => '09'\n",
    "\n",
    "unused_digits(2015, 8, 26)  # => '3479'\n",
    "```\n",
    "\n",
    "\n",
    "**결과값은 정렬되어야 합니다.**\n",
    "\n"
   ]
  },
  {
   "cell_type": "code",
   "execution_count": 139,
   "metadata": {},
   "outputs": [],
   "source": [
    "# 아래에 코드를 작성하세요."
   ]
  },
  {
   "cell_type": "code",
   "execution_count": 140,
   "metadata": {},
   "outputs": [],
   "source": [
    "def unused_digits(*args):\n",
    "    integers = {1, 2, 3, 4, 5, 6, 7, 8, 9, 0}\n",
    "    my_set = set()\n",
    "    for i in args:\n",
    "        my_set.update(list(map(int, str(i))))\n",
    "    \n",
    "    result = sorted(list(integers - my_set))\n",
    "    \n",
    "    return ''.join(map(str, result))\n"
   ]
  },
  {
   "cell_type": "code",
   "execution_count": 142,
   "metadata": {},
   "outputs": [
    {
     "name": "stdout",
     "output_type": "stream",
     "text": [
      "09\n",
      "3479\n"
     ]
    }
   ],
   "source": [
    "# 해당 코드를 통해 올바른 결과가 나오는지 확인하세요.\n",
    "print(unused_digits(12, 34, 56, 78))\n",
    "print(unused_digits(2015, 8, 26))"
   ]
  },
  {
   "cell_type": "markdown",
   "metadata": {},
   "source": [
    "# 짝홀짝홀"
   ]
  },
  {
   "cell_type": "markdown",
   "metadata": {},
   "source": [
    "> n개의 양의 정수 리스트가 주어지면, 홀수와 짝수를 분리하고 각각의 조건에 맞게 홀수와 짝수를 \n",
    "정렬하는 함수를 작성하세요.\n",
    "\n",
    "> **조건**\n",
    "1. 짝수와 홀수가 번갈아 가면서 나오게 됩니다.\n",
    "2. 짝수가 먼저 시작됩니다.\n",
    "3. 짝수는 오름차순으로 홀수는 내림차순으로 되어야합니다.\n",
    "\n",
    "> **실습 입력 인자 조건**\n",
    "1. 인자 리스트의 크기는 적어도 4이상입니다.\n",
    "2. 인자 리스트의 요소값으로 0은 존재하지 않습니다.\n",
    "3. 인자 리스트의 요소값이 반복될 수 있으나 출력할 때는 중복 값이 없습니다.\n",
    "\n",
    "---\n",
    "\n",
    "예시)\n",
    "\n",
    "```python\n",
    "print(even_and_odd([7, 3 , 14 , 17]))\n",
    "# => [14, 17, 7, 3]\n",
    "\n",
    "print(even_and_odd([1, 3, 5, 7, 9, 11]))\n",
    "# => [11, 9, 7, 5, 3, 1]\n",
    "\n",
    "print(even_and_odd([1, 2, 2, 4, 4, 6, 6, 2004, 9, 11]))\n",
    "# => [2, 11, 4, 9, 6, 1, 2004]\n",
    "```"
   ]
  },
  {
   "cell_type": "code",
   "execution_count": null,
   "metadata": {},
   "outputs": [],
   "source": [
    "# 아래에 코드를 작성하세요.\n",
    "\n",
    "1. 인자는 리스트로 받는데, 리스트 내 인자의 개수는 적어도 4이상이다. \n",
    "2. 중복이 없어야 하니 일단 set로 만들어서 중복 제거. \n",
    "3. 중복이 제거된 set를 list로 바꾼다.\n",
    "4. list를 for문으로 돌려 각 인자가 홀수인지 짝수인지 구분하여 홀수는 홀수 리스트에, 짝수는 짝수 리스트에 추가한다. \n",
    "5. 홀수 리스트는 내림차순 정렬하고, 짝수 리스트는 오름차순 정렬한다. \n",
    "6. 새로운 result 리스트를 만들고, 짝수가 먼저, 그 다음 홀수가 추가되게 한다. "
   ]
  },
  {
   "cell_type": "code",
   "execution_count": 173,
   "metadata": {},
   "outputs": [
    {
     "name": "stdout",
     "output_type": "stream",
     "text": [
      "코딩 공부\n",
      "파이썬 좋아\n",
      "독학 코딩\n",
      "공부 하자\n"
     ]
    }
   ],
   "source": [
    "list_a = [\"코딩\", \"파이썬\", \"독학\", \"공부\"]\n",
    "list_b = [\"공부\", \"좋아\", \"코딩\", \"하자\"]\n",
    "for i, j in zip(list_a, list_b):\n",
    "    print(i, j)"
   ]
  },
  {
   "cell_type": "code",
   "execution_count": 192,
   "metadata": {},
   "outputs": [],
   "source": [
    "def even_and_odd(li):\n",
    "    li = set(li)\n",
    "    li = list(li)\n",
    "    even_list = []\n",
    "    odd_list = []\n",
    "    result = []\n",
    "    \n",
    "    for i in li:\n",
    "        if i % 2:\n",
    "            odd_list.append(i)\n",
    "        else:\n",
    "            even_list.append(i)\n",
    "            \n",
    "    even_list = sorted(even_list)\n",
    "    odd_list = sorted(odd_list, reverse=True)\n",
    "    \n",
    "    for i in range(len(even_list)+len(odd_list)):\n",
    "        if len(even_list) > i:\n",
    "            result.append(even_list[i])   \n",
    "        if len(odd_list) > i:\n",
    "            result.append(odd_list[i])\n",
    "        \n",
    "    return result\n",
    "    \n",
    "#     for i, j in zip_longest(even_list, odd_list): 모듈이 없어서 사용이 안돼...\n",
    "#         result.append(i)\n",
    "#         result.append(j)         "
   ]
  },
  {
   "cell_type": "code",
   "execution_count": 193,
   "metadata": {
    "scrolled": true
   },
   "outputs": [
    {
     "name": "stdout",
     "output_type": "stream",
     "text": [
      "[14, 17, 7, 3]\n",
      "[11, 9, 7, 5, 3, 1]\n",
      "[2, 11, 4, 9, 6, 1, 2004]\n"
     ]
    }
   ],
   "source": [
    "# 해당 코드를 통해 올바른 결과가 나오는지 확인하세요.\n",
    "print(even_and_odd([7, 3, 14, 17]))\n",
    "print(even_and_odd([1, 3, 5, 7, 9, 11]))\n",
    "print(even_and_odd([1, 2, 2, 4, 4, 6, 6, 2004, 9, 11]))"
   ]
  },
  {
   "cell_type": "markdown",
   "metadata": {},
   "source": [
    "# 문자열 계산하기\n",
    "\n",
    "> 아래와 같이 문자열이 주어졌을 때, 바보같은 사용자를 위해 계산을 해주려고 합니다.\n",
    ">\n",
    "> 이 계산기는 더하기와 빼기밖에 못합니다.\n",
    ">\n",
    "> 함수 `calc(equation)`을 작성하세요.\n",
    "\n",
    "---\n",
    "\n",
    "예시)\n",
    "\n",
    "```python\n",
    "calc('123+2-124')\n",
    "#=> 1\n",
    "\n",
    "calc('-12+12-7979+9191')\n",
    "#=> 1212\n",
    "\n",
    "calc('+1-1+1-1+1-1+1-1+1-1+1-1+1-1+1-1+1-1+1-1+1-1+1-1+1-1+1-1+1-1+1-1')\n",
    "#=> 0\n",
    "```"
   ]
  },
  {
   "cell_type": "code",
   "execution_count": 206,
   "metadata": {},
   "outputs": [],
   "source": [
    "# 아래에 코드를 작성하세요."
   ]
  },
  {
   "cell_type": "code",
   "execution_count": 279,
   "metadata": {},
   "outputs": [],
   "source": [
    "def calc(equation):\n",
    "    total = 0\n",
    "    number = \"\"\n",
    "    new_list = []\n",
    "    \n",
    "    for i in equation:\n",
    "        if i != '+' and i != '-':\n",
    "            number += i\n",
    "        elif i == '+' or i == '-':\n",
    "            new_list.append(number)\n",
    "            new_list.append(i)\n",
    "            number = \"\"\n",
    "    new_list.append(number)\n",
    "    \n",
    "    a = len(new_list) - 1\n",
    "        \n",
    "    for i in range(len(new_list)):\n",
    "        if i > a:\n",
    "            break\n",
    "        if new_list[i] == '':\n",
    "            continue\n",
    "        elif new_list[i] == '+':\n",
    "            continue\n",
    "        elif new_list[i] == '-':\n",
    "            total -= int(new_list[i+1])\n",
    "            new_list.pop(i+1)\n",
    "            a -= 1\n",
    "            \n",
    "        else:\n",
    "            total += int(new_list[i])\n",
    "    \n",
    "    return total        "
   ]
  },
  {
   "cell_type": "code",
   "execution_count": 280,
   "metadata": {},
   "outputs": [
    {
     "name": "stdout",
     "output_type": "stream",
     "text": [
      "1\n",
      "1212\n",
      "0\n"
     ]
    }
   ],
   "source": [
    "# 해당 코드를 통해 올바른 결과가 나오는지 확인하세요.\n",
    "print(calc('123+2-124'))\n",
    "print(calc('-12+12-7979+9191'))\n",
    "print(calc('+1-1+1-1+1-1+1-1+1-1+1-1+1-1+1-1+1-1+1-1+1-1+1-1+1-1+1-1+1-1+1-1'))"
   ]
  }
 ],
 "metadata": {
  "kernelspec": {
   "display_name": "Python 3 (ipykernel)",
   "language": "python",
   "name": "python3"
  },
  "language_info": {
   "codemirror_mode": {
    "name": "ipython",
    "version": 3
   },
   "file_extension": ".py",
   "mimetype": "text/x-python",
   "name": "python",
   "nbconvert_exporter": "python",
   "pygments_lexer": "ipython3",
   "version": "3.10.10"
  },
  "latex_envs": {
   "LaTeX_envs_menu_present": true,
   "autoclose": false,
   "autocomplete": true,
   "bibliofile": "biblio.bib",
   "cite_by": "apalike",
   "current_citInitial": 1,
   "eqLabelWithNumbers": true,
   "eqNumInitial": 1,
   "hotkeys": {
    "equation": "Ctrl-E",
    "itemize": "Ctrl-I"
   },
   "labels_anchors": false,
   "latex_user_defs": false,
   "report_style_numbering": false,
   "user_envs_cfg": false
  },
  "toc": {
   "base_numbering": 1,
   "nav_menu": {},
   "number_sections": true,
   "sideBar": true,
   "skip_h1_title": false,
   "title_cell": "Table of Contents",
   "title_sidebar": "Contents",
   "toc_cell": false,
   "toc_position": {},
   "toc_section_display": true,
   "toc_window_display": false
  },
  "vscode": {
   "interpreter": {
    "hash": "51d354aa4721e008858a28cad10f7efbfd288bcf50ac31411bfc117a31ae17c9"
   }
  }
 },
 "nbformat": 4,
 "nbformat_minor": 2
}

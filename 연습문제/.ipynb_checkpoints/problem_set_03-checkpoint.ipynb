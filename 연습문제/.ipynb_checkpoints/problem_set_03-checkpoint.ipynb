{
 "cells": [
  {
   "cell_type": "markdown",
   "metadata": {},
   "source": [
    "# 종합소득세 계산하기\n",
    "\n",
    "A라는 나라에서는 종합소득세는 과세표준 금액 구간에 따라 다른 세율이 적용됩니다.\n",
    "\n",
    "<img width=\"628\" alt=\"Screen Shot 2019-07-18 at 5 48 05 PM\" src=\"https://user-images.githubusercontent.com/52446416/61443335-40d52b00-a984-11e9-8163-8080ce7ab6c6.png\">\n",
    "\n",
    "|과세표준액|세율|\n",
    "|-------|---|\n",
    "|1,200이하|6%|\n",
    "|1,200 ~ 4,600|15%|\n",
    "|4,600 ~ |35%|\n",
    "\n",
    "즉, 1,300만원을 벌었을 경우 `1,200*0.06 + 100*0.15`를 계산한 결과가 납부해야 하는 세액입니다.\n",
    "\n",
    "함수 `tax(won)`을 만들고 납부해야하는 세금의 결과를 반환하는 함수를 작성하세요.\n",
    "\n",
    "**위 이미지를 참고하여 아래 표에 맞춰 답을 작성하세요.**\n",
    "\n",
    "---\n",
    "\n",
    "예시)\n",
    "\n",
    "```python\n",
    "tax(1200) #=> 72.0\n",
    "tax(4600) #=> 582.0\n",
    "tax(5000) #=> 722.0\n",
    "```"
   ]
  },
  {
   "cell_type": "code",
   "execution_count": 26,
   "metadata": {},
   "outputs": [
    {
     "name": "stdout",
     "output_type": "stream",
     "text": [
      "5820000.0\n"
     ]
    }
   ],
   "source": [
    "# 아래에 코드를 작성하세요.\n",
    "\n",
    "print((12000000 * 0.06) + 34000000 * 0.15)\n",
    "\n",
    "def tax(money):\n",
    "    money *= 10000\n",
    "    if money <= 12000000:\n",
    "        return (money * 0.06) / 10000\n",
    "    elif money <= 46000000:\n",
    "        return (12000000 * 0.06 + (money - 12000000) * 0.15) / 10000\n",
    "    elif money > 46000000:\n",
    "        return (5820000 + (money - 46000000) * 0.35) / 10000\n",
    "    \n",
    "    "
   ]
  },
  {
   "cell_type": "code",
   "execution_count": 8,
   "metadata": {},
   "outputs": [],
   "source": [
    "#\n",
    "def tax(money):\n",
    "    pass\n"
   ]
  },
  {
   "cell_type": "code",
   "execution_count": 27,
   "metadata": {},
   "outputs": [
    {
     "name": "stdout",
     "output_type": "stream",
     "text": [
      "72.0\n",
      "582.0\n",
      "722.0\n"
     ]
    }
   ],
   "source": [
    "# 해당 코드를 통해 올바른 결과가 나오는지 확인하세요.\n",
    "print(tax(1200))\n",
    "print(tax(4600))\n",
    "print(tax(5000))"
   ]
  },
  {
   "cell_type": "markdown",
   "metadata": {},
   "source": [
    "# 카쉐어링 요금 계산하기\n",
    "\n",
    "> 카쉐어링 서비스는 요금을 다음과 같이 계산합니다.\n",
    ">\n",
    "> 대여는 10분 단위로 가능합니다.\n",
    "> \n",
    "> 1. 대여 요금 : 10분당 1,200원\n",
    ">\n",
    "> 2. 보험료 : 30분당 525원 (50분을 빌리면, 1시간으로 계산됩니다.)\n",
    ">\n",
    "> 3. 주행 요금 : km당 170원 (주행 요금은 100km가 넘어가면, 넘어간 부분에 대하여 할인이 50% 적용됩니다.)\n",
    ">\n",
    "> 예) 160km를 달렸으면, 170\\*100 + 85 \\*60\n",
    ">\n",
    "> 양의 정수인 대여시간(분)과 주행거리를 받아 계산 결과를 반환하는 함수 fee(minute, distance)를 작성하세요.\n",
    "> \n",
    "> 참고 함수 [`math.ceil`](https://developer.mozilla.org/ko/docs/Web/JavaScript/Reference/Global_Objects/Math/ceil)\n",
    "---\n",
    "예시)\n",
    "\n",
    "```python\n",
    "fee(600, 50) #=> 91000\n",
    "fee(600, 110) #=> 100350\n",
    "```"
   ]
  },
  {
   "cell_type": "code",
   "execution_count": null,
   "metadata": {},
   "outputs": [],
   "source": [
    "# 아래에 코드를 작성하세요.\n",
    "\n",
    "Ex) 200분 빌렸고, 200km 를 주행함 -> (200, 200) -> (minute, distance)\n",
    "\n",
    "1. 대여요금 : 1200 * 20(minute/10) = x\n",
    "2. 보험료 : 525 * 7(time/30) = y\n",
    "3. 주행 요금 : if distance <= 100:\n",
    "                return distance * 170\n",
    "            elif distance > 100:\n",
    "                return 100 * 170 + (distance - 100) * 85 = z\n",
    "            "
   ]
  },
  {
   "cell_type": "code",
   "execution_count": 30,
   "metadata": {},
   "outputs": [
    {
     "data": {
      "text/plain": [
       "6.666666666666667"
      ]
     },
     "execution_count": 30,
     "metadata": {},
     "output_type": "execute_result"
    }
   ],
   "source": [
    "200 / 30"
   ]
  },
  {
   "cell_type": "code",
   "execution_count": 33,
   "metadata": {},
   "outputs": [],
   "source": [
    "import math\n",
    "\n",
    "def fee(time, distance):\n",
    "    x = 1200 * (time / 10)\n",
    "    y = 525 * (time / 30)\n",
    "    z = 0\n",
    "    \n",
    "    if distance <= 100:\n",
    "        z = distance * 170\n",
    "    elif distance > 100:\n",
    "        z = 100 * 170 + (distance - 100) * 85\n",
    "        \n",
    "    return int(x + y + z)\n",
    "    \n",
    "    "
   ]
  },
  {
   "cell_type": "code",
   "execution_count": 34,
   "metadata": {
    "scrolled": true
   },
   "outputs": [
    {
     "name": "stdout",
     "output_type": "stream",
     "text": [
      "91000\n",
      "100350\n"
     ]
    }
   ],
   "source": [
    "# 해당 코드를 통해 올바른 결과가 나오는지 확인하세요.\n",
    "print(fee(600, 50))\n",
    "print(fee(600, 110))"
   ]
  },
  {
   "cell_type": "markdown",
   "metadata": {},
   "source": [
    "# 문자열 탐색\n",
    "\n",
    "> 문자열 요소로만 이루어진 리스트를 넣었을 때, 문자열 길이가 2 이상이고 주어진 문자열의 첫번째와 마지막 문자가 같은 문자열의 수를 세는 함수 `start_end`를 작성하세요.\n",
    "\n",
    "---\n",
    "\n",
    "예시)\n",
    "\n",
    "```python\n",
    "start_end(['level', 'asdwe', 's', 'abceda', 'gsdwrtfg']) #=> 3\n",
    "```\n"
   ]
  },
  {
   "cell_type": "code",
   "execution_count": 82,
   "metadata": {},
   "outputs": [
    {
     "name": "stdout",
     "output_type": "stream",
     "text": [
      "['level', 'abceda', 'gsdwrtfg']\n",
      "3\n",
      "<class 'list'>\n",
      "<class 'list'>\n"
     ]
    }
   ],
   "source": [
    "# 아래에 코드를 작성하세요.\n",
    "\n",
    "start_end2 = (['level', 'asdwe', 's', 'abceda', 'gsdwrtfg'])\n",
    "\n",
    "x = []\n",
    "\n",
    "for i in start_end2:\n",
    "    if len(i) >= 2:\n",
    "        if i[0] == i[-1]:\n",
    "            x.append(i)\n",
    "            \n",
    "print(x)\n",
    "print(len(x))"
   ]
  },
  {
   "cell_type": "code",
   "execution_count": 90,
   "metadata": {},
   "outputs": [],
   "source": [
    "#\n",
    "def start_end(words): \n",
    "    \n",
    "    x = []\n",
    "\n",
    "    for i in words:\n",
    "        if len(i) >= 2:\n",
    "            if i[0] == i[-1]:\n",
    "                x.append(i)\n",
    "    \n",
    "    return len(x)\n"
   ]
  },
  {
   "cell_type": "code",
   "execution_count": 89,
   "metadata": {},
   "outputs": [
    {
     "name": "stdout",
     "output_type": "stream",
     "text": [
      "3\n"
     ]
    }
   ],
   "source": [
    "# 해당 코드를 통해 3이 나오는지 확인하세요.\n",
    "print(start_end(['level', 'asdwe', 's', 'abceda', 'gsdwrtfg']))"
   ]
  },
  {
   "cell_type": "markdown",
   "metadata": {},
   "source": [
    "\n",
    "# 이상한 덧셈\n",
    "\n",
    "> 숫자들을 받아서 양의 정수의 합을 구하는 함수 `positive_sum`을 작성하세요.\n",
    "\n",
    "---\n",
    "\n",
    "예시)\n",
    "\n",
    "```python\n",
    "positive_sum(1,-4,7,12) #=> 20\n",
    "positive_sum(-1, -2, -3, -4) #=> 0\n",
    "```"
   ]
  },
  {
   "cell_type": "code",
   "execution_count": null,
   "metadata": {},
   "outputs": [],
   "source": [
    "# 아래에 코드를 작성하세요."
   ]
  },
  {
   "cell_type": "code",
   "execution_count": 92,
   "metadata": {},
   "outputs": [],
   "source": [
    "#\n",
    "\n",
    "def positive_sum(*numbers):\n",
    "    \n",
    "    x = []\n",
    "    \n",
    "    for num in numbers:\n",
    "        if num > 0:\n",
    "            x.append(num)\n",
    "            \n",
    "    return sum(x)\n",
    "            "
   ]
  },
  {
   "cell_type": "code",
   "execution_count": 93,
   "metadata": {},
   "outputs": [
    {
     "name": "stdout",
     "output_type": "stream",
     "text": [
      "20\n",
      "0\n"
     ]
    }
   ],
   "source": [
    "# 해당 코드를 통해 20과 0이 나오는지 확인하세요.\n",
    "print(positive_sum(1, -4, 7, 12))\n",
    "print(positive_sum(-1, -2, -3, -4))"
   ]
  },
  {
   "cell_type": "markdown",
   "metadata": {},
   "source": [
    "# Collatz 추측\n",
    "\n",
    "> 1937년 Collatz란 사람에 의해 제기된 이 추측은, 주어진 수가 1이 될때까지 다음 작업을 반복하면, 모든 수를 1로 만들 수 있다는 추측입니다. 작업은 다음과 같습니다.\n",
    ">\n",
    "> 1. 입력된 수가 짝수라면 2로 나눈다. \n",
    "> 2. 입력된 수가 홀수라면 3을 곱하고 1을 더한다.\n",
    "> 3. 결과로 나온 수에 같은 작업을 1이 될 때까지 반복한다.\n",
    ">\n",
    ">     * 예를 들어, 입력된 수가 6이라면 6 → 3 → 10 → 5 → 16 → 8 → 4 → 2 → 1 이 되어 총 8번 만에 1이 된다.\n",
    ">\n",
    "> 위 작업을 몇 번이나 반복해야하는지 반환하는 함수 `collatz`를 작성하세요.\n",
    ">\n",
    "> 단, 작업을 500번을 반복해도 1이 되지 않는다면 –1을 반환하세요.\n",
    "\n",
    "---\n",
    "\n",
    "예시)\n",
    "\n",
    "```python\n",
    "collatz(6) #=> 8\n",
    "collatz(16) #=> 4\n",
    "collatz(27) #=> 111\n",
    "collatz(626331) #=> -1\n",
    "```"
   ]
  },
  {
   "cell_type": "code",
   "execution_count": 138,
   "metadata": {},
   "outputs": [
    {
     "name": "stdout",
     "output_type": "stream",
     "text": [
      "8\n",
      "0\n"
     ]
    }
   ],
   "source": [
    "# 아래에 코드를 작성하세요.\n",
    "\n",
    "n = 6\n",
    "x = []\n",
    "y = len(x)\n",
    "\n",
    "while n >= 1:\n",
    "    if n == 1:\n",
    "        break\n",
    "    elif n % 2 == 1:\n",
    "        n = n * 3 + 1\n",
    "        x.append(n)\n",
    "    elif n % 2 == 0:\n",
    "        n = n / 2\n",
    "        x.append(n)\n",
    "    \n",
    "\n",
    "    \n",
    "    \n",
    "    \n",
    "print(len(x))\n",
    "print(y)  # 값이 0으로 뜨는 이유는 local 에서 x값이 바뀌었지만, y는 global 변수와 바인딩 되어있기 때문에!"
   ]
  },
  {
   "cell_type": "code",
   "execution_count": 134,
   "metadata": {},
   "outputs": [],
   "source": [
    "#\n",
    "def collatz(n):\n",
    "    \n",
    "    x = []\n",
    "    \n",
    "    while n >= 1:\n",
    "        if n == 1:\n",
    "            break\n",
    "        elif n % 2:\n",
    "            n = n * 3 + 1\n",
    "            x.append(n)\n",
    "        elif n % 2 == 0:\n",
    "            n /= 2\n",
    "            x.append(n)\n",
    "    \n",
    "    return len(x)"
   ]
  },
  {
   "cell_type": "code",
   "execution_count": 135,
   "metadata": {},
   "outputs": [
    {
     "name": "stdout",
     "output_type": "stream",
     "text": [
      "8\n",
      "4\n",
      "111\n",
      "508\n"
     ]
    }
   ],
   "source": [
    "# 해당 코드를 통해 8, 4, 111, -1 이 나오는지 확인하세요.\n",
    "print(collatz(6))\n",
    "print(collatz(16))\n",
    "print(collatz(27))\n",
    "print(collatz(626331))"
   ]
  },
  {
   "cell_type": "markdown",
   "metadata": {},
   "source": [
    "# 솔로 천국 만들기\n",
    "\n",
    "> 리스트가 주어집니다. 리스트의 각 요소는 숫자 0부터 9까지로 이루어져 있습니다. \n",
    ">\n",
    "> 이때, 리스트에서 연속적으로 나타나는 숫자는 하나만 남기고 전부 제거하려고 합니다. \n",
    ">\n",
    "> 리스트에서 연속적으로 나타나는 숫자는 제거하고 남은 수들을 반환하는 함수 `lonely`를 작성하세요.\n",
    ">\n",
    "> 단, 제거된 후 남은 수들을 반환할 때는 리스트의 요소들의 순서를 유지해야 합니다.  \n",
    "\n",
    "---\n",
    "\n",
    "예시)\n",
    "\n",
    "```python\n",
    "lonely([1, 1, 3, 3, 0, 1, 1]) #=> [1, 3, 0, 1]\n",
    "lonely([4, 4, 4, 3, 3]) #=> [4, 3]\n",
    "```\n"
   ]
  },
  {
   "cell_type": "code",
   "execution_count": 185,
   "metadata": {},
   "outputs": [
    {
     "data": {
      "text/plain": [
       "3"
      ]
     },
     "execution_count": 185,
     "metadata": {},
     "output_type": "execute_result"
    }
   ],
   "source": [
    "# 아래에 코드를 작성하세요.\n",
    "\n",
    "numbers2 = ['4', '3', '3']\n",
    "\n",
    "len(numbers2)"
   ]
  },
  {
   "cell_type": "code",
   "execution_count": 190,
   "metadata": {},
   "outputs": [],
   "source": [
    "# \n",
    "def lonely(numbers):\n",
    "    \n",
    "    n = 0\n",
    "    numbers2 = numbers[:]\n",
    "    \n",
    "    for i in numbers:\n",
    "        if n == len(numbers) - 1:\n",
    "            break\n",
    "        if numbers[n] == numbers[n+1]:\n",
    "            if n >= len(numbers2):\n",
    "                numbers2.pop(len(numbers2) - 1)\n",
    "            else:\n",
    "                numbers2.pop(n)\n",
    "            n += 1   \n",
    "        else:\n",
    "            n += 1\n",
    "            \n",
    "    return numbers2"
   ]
  },
  {
   "cell_type": "code",
   "execution_count": 191,
   "metadata": {
    "scrolled": true
   },
   "outputs": [
    {
     "name": "stdout",
     "output_type": "stream",
     "text": [
      "[1, 3, 0, 1]\n",
      "[4, 3]\n"
     ]
    }
   ],
   "source": [
    "# 해당 코드를 통해 [1, 3, 0, 1]과 [4, 3]이 나오는지 확인하세요.\n",
    "print(lonely([1, 1, 3, 3, 0, 1, 1]))\n",
    "print(lonely([4,4,4,3,3]))"
   ]
  },
  {
   "cell_type": "code",
   "execution_count": null,
   "metadata": {},
   "outputs": [],
   "source": []
  }
 ],
 "metadata": {
  "kernelspec": {
   "display_name": "Python 3 (ipykernel)",
   "language": "python",
   "name": "python3"
  },
  "language_info": {
   "codemirror_mode": {
    "name": "ipython",
    "version": 3
   },
   "file_extension": ".py",
   "mimetype": "text/x-python",
   "name": "python",
   "nbconvert_exporter": "python",
   "pygments_lexer": "ipython3",
   "version": "3.10.10"
  },
  "toc": {
   "base_numbering": 1,
   "nav_menu": {},
   "number_sections": true,
   "sideBar": true,
   "skip_h1_title": false,
   "title_cell": "Table of Contents",
   "title_sidebar": "Contents",
   "toc_cell": false,
   "toc_position": {},
   "toc_section_display": true,
   "toc_window_display": false
  }
 },
 "nbformat": 4,
 "nbformat_minor": 2
}

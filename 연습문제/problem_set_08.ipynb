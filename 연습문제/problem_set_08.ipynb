{
 "cells": [
  {
   "cell_type": "markdown",
   "metadata": {},
   "source": [
    "# 문제\n",
    "> 입력된 모든 (숫자 * 번째)의 합계를 반환하는 함수를 작성하세요.\n",
    "> 함수에 전달된 인자가 없으면 0을 반환합니다.\n",
    "---\n",
    "\n",
    "예시)\n",
    "\n",
    "```python\n",
    "add(3, 4, 5) #=> (3*1번째)+(4*2번째)+(5*3번째) => 26\n",
    "add() #=> 인자없음 => 0\n",
    "add(1, 2, 3) #=> (1*1번째)+(2*2번째)+(3*3번째) => 14\n",
    "add(1, 4, -5, 5) #=> (1*1번째)+(4*2번째)+(-5*3번째)+(5*4번째) => 14\n",
    "```\n",
    "\n",
    "**유의) 인자가 없으면 0을 반환합니다.**"
   ]
  },
  {
   "cell_type": "code",
   "execution_count": null,
   "metadata": {},
   "outputs": [],
   "source": [
    "# 아래에 코드를 작성하세요.\n",
    "\n",
    "1. 가변 인자 *args로 파라미터 설정. \n",
    "2. 인자가 없으면 0을 반환.\n",
    "3. 튜플로 들어온 args를 list로 반환. \n",
    "4. for문과 enumerate를 이용해서 인덱스와 해당하는 값을 같이 뽑음. * 시작 인덱스를 1로 변경!\n",
    "5. total = 0 으로 변수 설정.\n",
    "6. enumerate로 뽑은 튜플을 변수 1,2에 할당해서 그걸 곱한 값을 total에 갱신. \n",
    "7. return total."
   ]
  },
  {
   "cell_type": "code",
   "execution_count": 29,
   "metadata": {},
   "outputs": [],
   "source": [
    "def add(*args):\n",
    "    args = list(args)\n",
    "    total = 0\n",
    "    if args == []:\n",
    "        return 0\n",
    "    else:\n",
    "        for idx, value in enumerate(args, start=1):\n",
    "            total += idx * value\n",
    "    \n",
    "    return total"
   ]
  },
  {
   "cell_type": "code",
   "execution_count": 30,
   "metadata": {},
   "outputs": [
    {
     "name": "stdout",
     "output_type": "stream",
     "text": [
      "26\n",
      "0\n",
      "14\n",
      "14\n",
      "85\n"
     ]
    }
   ],
   "source": [
    "# 해당 코드를 통해 올바른 결과가 나오는지 확인하세요.\n",
    "print(add(3, 4, 5))\n",
    "print(add())\n",
    "print(add(1, 2, 3))\n",
    "print(add(1, 4, -5, 5))\n",
    "print(add(3, 4, 5, 6, 7))"
   ]
  },
  {
   "cell_type": "markdown",
   "metadata": {},
   "source": [
    "# 문제\n",
    "\n",
    "> 같은 숫자가 한개 있거나 두개가 들어있는 리스트가 주어집니다. 이러한 리스트에서 숫자가 한개만 있는 요소들의 합을 구하는 함수를 작성하세요.\n",
    ">\n",
    "> 예를 들어, `repeats([4, 5, 7, 5, 4, 8]) = 15`는 7과 8이 한번만 나오기 때문에 두개를 더한 15가 결과값으로 도출됩니다. \n",
    "\n",
    "---\n",
    "\n",
    "예시)\n",
    "\n",
    "```python\n",
    "print(repeats([4, 4, 7, 8, 10])) # => 25\n",
    "```\n"
   ]
  },
  {
   "cell_type": "code",
   "execution_count": null,
   "metadata": {},
   "outputs": [],
   "source": [
    "# 아래에 코드를 작성하세요.\n",
    "\n",
    "1. 인자로 리스트가 주어짐. \n",
    "2. for문으로 i가 리스트안에서 몇개있는지 센다. \n",
    "3. 한개라면 i를 total에 더한다. \n",
    "4. return total"
   ]
  },
  {
   "cell_type": "code",
   "execution_count": 31,
   "metadata": {},
   "outputs": [],
   "source": [
    "def repeats(li):\n",
    "    total = 0\n",
    "    for i in li:\n",
    "        if li.count(i) == 1:\n",
    "            total += i\n",
    "            \n",
    "    return total"
   ]
  },
  {
   "cell_type": "code",
   "execution_count": 32,
   "metadata": {},
   "outputs": [
    {
     "name": "stdout",
     "output_type": "stream",
     "text": [
      "25\n"
     ]
    }
   ],
   "source": [
    "# 해당 코드를 통해 올바른 결과가 나오는지 확인하세요.\n",
    "print(repeats([4, 4, 7, 8, 10]))"
   ]
  },
  {
   "cell_type": "markdown",
   "metadata": {},
   "source": [
    "# 문제\n",
    "\n",
    "> 과수원에 농부 한명이 썩은 과일이 몇개 들어있는 과일 봉지를 가지고 있습니다. (이 과일 봉지는리스트를 의미합니다.)\n",
    ">\n",
    "> 썩은 과일 조각들을 모두 신선한 것으로 교체하는 함수를 작성하세요. (rotten과일을 신선한 과일로 바꿔야 합니다.)\n",
    ">\n",
    "> 예를 들어,\n",
    "- `['apple', 'rottenBanana', 'apple']` 이라는 리스트가 주어진 경우, 대체된 리스트는 `['apple', 'banana', 'apple']` 이어야 합니다. \n",
    ">\n",
    ">\n",
    "> **유의**\n",
    "- 만약 리스트가 null/nil/None이거나 비어 있는 경우 빈 리스트를 반환합니다.\n",
    "- 반환된 리스트는 소문자여야 합니다,\n",
    "\n",
    "---\n",
    "\n",
    "예시)\n",
    "\n",
    "```python\n",
    "print(remove_rotten(['apple', 'rottenBanana', 'apple'] ))\n",
    "# => ['apple', 'banana', 'apple']\n",
    "\n",
    "print(remove_rotten(['rottenapple', 'rottenBanana', 'apple', 'rottenGrape']))\n",
    "# => ['apple', 'banana', 'apple', 'grape']\n",
    "```"
   ]
  },
  {
   "cell_type": "code",
   "execution_count": null,
   "metadata": {},
   "outputs": [],
   "source": [
    "# 아래에 코드를 작성하세요.\n",
    "\n",
    "1. 리스트 내의 값이 문자열로 이루어진 리스트가 주어짐. \n",
    "2. 만약 리스트가 null, nil, None, [] 일 경우 빈 리스트를 반환.\n",
    "3. for문으로 if 'rotten' in i: i에서 rotten을 뺀다. 그리고 i.lower를 result 리스트에 추가. \n",
    "4. 만약 rotten이 i에 없다면 i.lower를 리스트에 추가. \n",
    "5. return result"
   ]
  },
  {
   "cell_type": "code",
   "execution_count": 45,
   "metadata": {},
   "outputs": [],
   "source": [
    "def remove_rotten(li):\n",
    "    result = []\n",
    "    if li == None or li == []:\n",
    "        return []\n",
    "    else:\n",
    "        for i in li:\n",
    "            if 'rotten' in i:\n",
    "                i = i.replace('rotten', '')\n",
    "                i = i.lower()\n",
    "                result.append(i)\n",
    "            else:\n",
    "                i = i.lower()\n",
    "                result.append(i)\n",
    "    return result"
   ]
  },
  {
   "cell_type": "code",
   "execution_count": 46,
   "metadata": {},
   "outputs": [
    {
     "name": "stdout",
     "output_type": "stream",
     "text": [
      "['apple', 'banana', 'apple']\n",
      "['apple', 'banana', 'apple', 'grape']\n"
     ]
    }
   ],
   "source": [
    "# 해당 코드를 통해 올바른 결과가 나오는지 확인하세요.\n",
    "print(remove_rotten(['apple', 'rottenBanana', 'apple'] ))\n",
    "print(remove_rotten(['rottenapple', 'rottenBanana', 'apple', 'rottenGrape']))"
   ]
  },
  {
   "cell_type": "markdown",
   "metadata": {},
   "source": [
    "# 문제\n",
    "\n",
    "> 마을의 신호등을 제어하는 함수를 작성하려고 합니다. 녹색 -> 노란색 -> 빨간색 \n",
    "-> 녹색으로 변환하는 함수가 필요합니다. \n",
    ">\n",
    "> 현재의 불빛 상태를 나타내는 인자하고 함수를 실행 시켰을 때 변경 되어야 하는 빛의 색을 \n",
    "나타내는 함수를 작성하세요.\n",
    "\n",
    "---\n",
    "\n",
    "예시)\n",
    "\n",
    "```python\n",
    "print(update_light('red')) # => 'green'\n",
    "print(update_light('green')) #=> 'yellow'\n",
    "```"
   ]
  },
  {
   "cell_type": "code",
   "execution_count": 52,
   "metadata": {},
   "outputs": [],
   "source": [
    "# 아래에 코드를 작성하세요.\n",
    "\n",
    "# 1. 문자열 string이 주어짐. \n",
    "# 2. 문자열 green, yellow, red, green 을 light 리스트로 바인딩.\n",
    "# 3. light.index(string)을 찾고, idx+1를 return.\n",
    "# 4. 만약 위의 인덱스가 len(light)와 같다면, light[0]을 return."
   ]
  },
  {
   "cell_type": "code",
   "execution_count": 53,
   "metadata": {},
   "outputs": [],
   "source": [
    "def update_light(string):\n",
    "    lights = ['green', 'yellow', 'red', 'green']\n",
    "    idx = lights.index(string)\n",
    "    if idx == len(lights):\n",
    "        return lights[0]\n",
    "    else:\n",
    "        return lights[idx+1]"
   ]
  },
  {
   "cell_type": "code",
   "execution_count": 54,
   "metadata": {},
   "outputs": [
    {
     "name": "stdout",
     "output_type": "stream",
     "text": [
      "green\n",
      "yellow\n"
     ]
    }
   ],
   "source": [
    "# 해당 코드를 통해 올바른 결과가 나오는지 확인하세요.\n",
    "print(update_light('red'))\n",
    "print(update_light('green'))"
   ]
  },
  {
   "cell_type": "markdown",
   "metadata": {},
   "source": [
    "# 문제\n",
    "\n",
    "> Arara는 셈을 한쌍으로 하는 아마존에 살고 있는 부족입니다. 이들이 행하는 셈의 방식은 다음과 같습니다.\n",
    ">\n",
    "> 예를 들어, 1에서 8까지는 셈을 한다면,\n",
    "- 1 = anane \n",
    "- 2 = adak \n",
    "- 3 = adak anane \n",
    "- 4 = adak adak \n",
    "- 5 = adak adak anane \n",
    "- 6 = adak adak adak\n",
    "- 7 = adak adak adak anane\n",
    "- 8 = adak adak adak adak \n",
    ">\n",
    "> 주어진 숫자 인자를 통해 다음과 같은 함수를 작성하세요.\n",
    "\n",
    "---\n",
    "\n",
    "예시)\n",
    "\n",
    "```python\n",
    "print(count_arara(3)) # -> 'adak anane'\n",
    "print(count_arara(8)) # -> 'adak adak adak adak'\n",
    "```"
   ]
  },
  {
   "cell_type": "code",
   "execution_count": null,
   "metadata": {},
   "outputs": [],
   "source": [
    "# 아래에 코드를 작성하세요.\n",
    "\n",
    "1. 1은 anane, 2는 dak. \n",
    "2. int가 주어짐. number로 바인딩.\n",
    "3. if number % 2: (홀수라면) f'{'adak '*(number // 2)} anane'\n",
    "4. else (짝수라면): f'{'adak '*(number // 2)}'"
   ]
  },
  {
   "cell_type": "code",
   "execution_count": 56,
   "metadata": {},
   "outputs": [],
   "source": [
    "def count_arara(number):\n",
    "    x = 'adak ' * (number // 2)\n",
    "    if number % 2:\n",
    "        return f'{x}anane'\n",
    "    else:\n",
    "        return f'{x}'"
   ]
  },
  {
   "cell_type": "code",
   "execution_count": 57,
   "metadata": {},
   "outputs": [
    {
     "name": "stdout",
     "output_type": "stream",
     "text": [
      "adak anane\n",
      "adak adak adak adak \n"
     ]
    }
   ],
   "source": [
    "# 해당 코드를 통해 올바른 결과가 나오는지 확인하세요.\n",
    "print(count_arara(3))\n",
    "print(count_arara(8))"
   ]
  },
  {
   "cell_type": "markdown",
   "metadata": {},
   "source": [
    "# 문제 \n",
    "\n",
    "> 제 친구 Rora는 그녀가 하고있는 밴드의 이름을 바꾸고 싶어합니다.\n",
    ">\n",
    "> 그녀는 \"The\" + a 대문자 명사 형태의 밴드 이름을 원합니다. 예를 들어, \"dolphin\" -> \"The Dolphin\"와 같습니다.\n",
    ">\n",
    "> 혹은 앞뒤가 같은 단어인 명사를 반복하여 결합하여 첫번째 문자를 대문자로 시작하는 밴드 이름을 \n",
    "만들고 싶어합니다. (이때는 앞쪽에 'The'가 없음) 예를 들어, \"alaska\" -> \"Alaskaalaska\"과 같습니다.\n",
    ">\n",
    "> 명사를 문자열로 하는 함수를 작성하고 선호하는 밴드 이름을 문자열로 표시하세요.\n",
    "\n",
    "---\n",
    "\n",
    "예시)\n",
    "\n",
    "```python\n",
    "print(band_name_generator('dolphinyap')) # => The Dolphinyap\n",
    "print(band_name_generator('aka')) # => Akaaka\n",
    "```"
   ]
  },
  {
   "cell_type": "code",
   "execution_count": null,
   "metadata": {},
   "outputs": [],
   "source": [
    "# 아래에 코드를 작성하세요.\n",
    "\n",
    "1. string이 주어짐.\n",
    "2. if string[0] == string[-1]:\n",
    "    string += string\n",
    "    return string.title()\n",
    "3. else:\n",
    "    string = string.title()\n",
    "    result = 'The ' + string\n",
    "    return result"
   ]
  },
  {
   "cell_type": "code",
   "execution_count": 60,
   "metadata": {},
   "outputs": [],
   "source": [
    "def band_name_generator(string):\n",
    "    if string[0] == string[-1]:\n",
    "        string += string\n",
    "        return string.title()\n",
    "    else:\n",
    "        string = string.title()\n",
    "        result = 'The ' + string\n",
    "        return result"
   ]
  },
  {
   "cell_type": "code",
   "execution_count": 61,
   "metadata": {},
   "outputs": [
    {
     "name": "stdout",
     "output_type": "stream",
     "text": [
      "The Dolphinyap\n",
      "Akaaka\n"
     ]
    }
   ],
   "source": [
    "# 해당 코드를 통해 올바른 결과가 나오는지 확인하세요.\n",
    "print(band_name_generator('dolphinyap'))\n",
    "print(band_name_generator('aka'))"
   ]
  }
 ],
 "metadata": {
  "kernelspec": {
   "display_name": "Python 3 (ipykernel)",
   "language": "python",
   "name": "python3"
  },
  "language_info": {
   "codemirror_mode": {
    "name": "ipython",
    "version": 3
   },
   "file_extension": ".py",
   "mimetype": "text/x-python",
   "name": "python",
   "nbconvert_exporter": "python",
   "pygments_lexer": "ipython3",
   "version": "3.10.10"
  },
  "toc": {
   "base_numbering": 1,
   "nav_menu": {},
   "number_sections": true,
   "sideBar": true,
   "skip_h1_title": false,
   "title_cell": "Table of Contents",
   "title_sidebar": "Contents",
   "toc_cell": false,
   "toc_position": {},
   "toc_section_display": true,
   "toc_window_display": false
  },
  "vscode": {
   "interpreter": {
    "hash": "51d354aa4721e008858a28cad10f7efbfd288bcf50ac31411bfc117a31ae17c9"
   }
  }
 },
 "nbformat": 4,
 "nbformat_minor": 2
}

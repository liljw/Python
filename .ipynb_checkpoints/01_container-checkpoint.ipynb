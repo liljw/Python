{
 "cells": [
  {
   "cell_type": "markdown",
   "id": "d5fbe5cb",
   "metadata": {},
   "source": [
    "# 컨테이너(Container)\n",
    "\n",
    "여러 개의 값을 저장할 수 있는 것(객체)을 의미하며, `서로 다른 자료형`을 저장 할 수 있습니다.\n",
    "\n",
    "### 컨테이너 분류\n",
    "- 시퀀스(Sequence)형 : 순서가 있는(ordered) 데이터\n",
    "- 비 시퀀스(Non-sequence)형 : 순서가 없는(unordered) 데이터\n",
    "\n",
    "<img width=\"712\" alt=\"container\" src=\"https://user-images.githubusercontent.com/45934087/148164052-3b12d3a2-a95e-4d4d-ae25-86ca1ba9657b.png\">"
   ]
  },
  {
   "cell_type": "markdown",
   "id": "1e2882ba",
   "metadata": {},
   "source": [
    "## 시퀀스(sequence)형 컨테이너\n",
    "\n",
    "`시퀀스`는 데이터가 순서대로 나열된(ordered) 형식을 나타냅니다. \n",
    "\n",
    "* **주의! 순서대로 나열된 것이 `정렬되었다(sorted)`라는 뜻은 아닙니다.**\n",
    "\n",
    "### 특징\n",
    "1. 순서가 있습니다.\n",
    "\n",
    "2. **특정 위치의 데이터를 가리킬 수 있습니다.**\n",
    "\n",
    "### 종류\n",
    "파이썬에서 기본적인 시퀀스 타입은 다음과 같습니다.\n",
    "\n",
    "* 리스트(list)\n",
    "\n",
    "* 튜플(tuple)\n",
    "\n",
    "* 레인지(range)\n",
    "\n",
    "* *문자형(string)*\n",
    "\n",
    "* *바이너리(binary)* : 다루지 않습니다.\n"
   ]
  },
  {
   "cell_type": "markdown",
   "id": "0e78925b",
   "metadata": {},
   "source": [
    "\n",
    "### 리스트 (List)\n",
    "\n",
    "<center><img src=\"https://user-images.githubusercontent.com/18046097/61180421-fe90ae80-a650-11e9-8211-d06f87756d05.png\", alt=\"list figure\"/></center>"
   ]
  },
  {
   "cell_type": "markdown",
   "id": "41e414fa",
   "metadata": {},
   "source": [
    "**생성과 접근**\n",
    "```python\n",
    "[value1, value2, value3]\n",
    "```\n",
    "\n",
    "리스트는 대괄호`[]` 및 `list()` 를 통해 만들 수 있습니다."
   ]
  },
  {
   "cell_type": "code",
   "execution_count": null,
   "id": "575a325b",
   "metadata": {},
   "outputs": [],
   "source": [
    "# 빈 list를 만들어봅시다.\n",
    "# 변수명 my_list인 list를 대괄호로 만들어봅시다.\n",
    "# 변수명 another_list인 list를 list()로 만들어 봅시다.\n",
    "# 두 변수의 타입을 출력해 봅시다."
   ]
  },
  {
   "cell_type": "code",
   "execution_count": 3,
   "id": "72ee5041",
   "metadata": {},
   "outputs": [
    {
     "name": "stdout",
     "output_type": "stream",
     "text": [
      "[] []\n"
     ]
    },
    {
     "data": {
      "text/plain": [
       "list"
      ]
     },
     "execution_count": 3,
     "metadata": {},
     "output_type": "execute_result"
    }
   ],
   "source": [
    "my_list = [] # 무에서 유를 만들 때\n",
    "another_list = list() # 기존 데이터를 기반으로 리스트를 만들 때\n",
    "print(my_list, another_list)\n",
    "type([])"
   ]
  },
  {
   "cell_type": "code",
   "execution_count": null,
   "id": "7ca6b28f",
   "metadata": {},
   "outputs": [],
   "source": [
    "# 원소를 포함한 list를 만들어 봅시다.\n",
    "# 변수 location을 출력해 봅시다.\n",
    "# location의 타입을 출력해 봅시다."
   ]
  },
  {
   "cell_type": "code",
   "execution_count": 100,
   "id": "672593b0",
   "metadata": {},
   "outputs": [
    {
     "data": {
      "text/plain": [
       "list"
      ]
     },
     "execution_count": 100,
     "metadata": {},
     "output_type": "execute_result"
    }
   ],
   "source": [
    "locations = ['서울', '대구', '제주', '하남', '위례', ]\n",
    "\n",
    "# 1. 변수명 -> 복.수.형\n",
    "# 2. = 앞, 뒤는 띄어쓰기\n",
    "# 3. , 뒤에 띄어쓰기\n",
    "# 4. 마지막에도 ,는 쓰기 (trailing comma) 특히 여러줄일 때는 반드시 쓴다!\n",
    "\n",
    "type(locations)"
   ]
  },
  {
   "cell_type": "code",
   "execution_count": null,
   "id": "60f811fc",
   "metadata": {},
   "outputs": [],
   "source": [
    "# location의 첫번째 값을 인덱스로 접근해 봅시다."
   ]
  },
  {
   "cell_type": "code",
   "execution_count": 5,
   "id": "7d4552ae",
   "metadata": {},
   "outputs": [
    {
     "data": {
      "text/plain": [
       "'대구'"
      ]
     },
     "execution_count": 5,
     "metadata": {},
     "output_type": "execute_result"
    }
   ],
   "source": [
    "locations[1]"
   ]
  },
  {
   "cell_type": "markdown",
   "id": "fe26c95d",
   "metadata": {},
   "source": [
    "\n",
    "순서가 있는 시퀀스로 인덱스를 통해 접근 가능합니다.\n",
    "- 값에 대한 접근은 `list[idx]` 방식으로 접근합니다.\n",
    "\n",
    "![image](https://user-images.githubusercontent.com/45934087/148164331-f0ff4193-6b05-4d99-bbde-dd1eef13b0b1.png)\n"
   ]
  },
  {
   "cell_type": "code",
   "execution_count": null,
   "id": "f15d8041",
   "metadata": {},
   "outputs": [],
   "source": [
    "# 변수 boxes에 문자열 'A', 'B', 리스트 ['apple', 'banana', 'cherry']를 할당합니다."
   ]
  },
  {
   "cell_type": "code",
   "execution_count": 9,
   "id": "3abf8203",
   "metadata": {},
   "outputs": [],
   "source": [
    "boxes = ['A', 'B', ['apple', 'banana', 'cherry']]"
   ]
  },
  {
   "cell_type": "code",
   "execution_count": 10,
   "id": "a527dd35",
   "metadata": {},
   "outputs": [],
   "source": [
    "# boxes의 길이를 len 함수를 이용하여 출력해 봅시다."
   ]
  },
  {
   "cell_type": "code",
   "execution_count": 11,
   "id": "3c16c4df",
   "metadata": {},
   "outputs": [
    {
     "data": {
      "text/plain": [
       "3"
      ]
     },
     "execution_count": 11,
     "metadata": {},
     "output_type": "execute_result"
    }
   ],
   "source": [
    "len(boxes)"
   ]
  },
  {
   "cell_type": "code",
   "execution_count": 12,
   "id": "fba2954e",
   "metadata": {},
   "outputs": [],
   "source": [
    "# boxes의 3번째 요소를 인덱스로 접근하여 출력해 봅시다."
   ]
  },
  {
   "cell_type": "code",
   "execution_count": 13,
   "id": "27635b3e",
   "metadata": {},
   "outputs": [
    {
     "data": {
      "text/plain": [
       "['apple', 'banana', 'cherry']"
      ]
     },
     "execution_count": 13,
     "metadata": {},
     "output_type": "execute_result"
    }
   ],
   "source": [
    "boxes[2]"
   ]
  },
  {
   "cell_type": "code",
   "execution_count": null,
   "id": "953bd782",
   "metadata": {},
   "outputs": [],
   "source": [
    "# boxes의 3번째 요소들 중, 마지막 요소를 negative index로 접근하여 출력해 봅시다."
   ]
  },
  {
   "cell_type": "code",
   "execution_count": 15,
   "id": "58fa45c7",
   "metadata": {},
   "outputs": [
    {
     "data": {
      "text/plain": [
       "'cherry'"
      ]
     },
     "execution_count": 15,
     "metadata": {},
     "output_type": "execute_result"
    }
   ],
   "source": [
    "boxes[2][-1]"
   ]
  },
  {
   "cell_type": "code",
   "execution_count": null,
   "id": "a85a2606",
   "metadata": {},
   "outputs": [],
   "source": [
    "# boxes의 마지막 요소들 중, 두번째 요소의 첫번째 문자열을 출력해 봅시다."
   ]
  },
  {
   "cell_type": "code",
   "execution_count": 17,
   "id": "5e9c7304",
   "metadata": {},
   "outputs": [
    {
     "data": {
      "text/plain": [
       "'b'"
      ]
     },
     "execution_count": 17,
     "metadata": {},
     "output_type": "execute_result"
    }
   ],
   "source": [
    "boxes[-1][1][0]"
   ]
  },
  {
   "cell_type": "code",
   "execution_count": 22,
   "id": "12fe6697",
   "metadata": {},
   "outputs": [
    {
     "data": {
      "text/plain": [
       "['c', '지우', ['apple', 'banana', 'cherry']]"
      ]
     },
     "execution_count": 22,
     "metadata": {},
     "output_type": "execute_result"
    }
   ],
   "source": [
    "# 할당(값을 수정 가능)\n",
    "\n",
    "boxes[0] = 'c'\n",
    "boxes[1] = '지우'\n",
    "boxes"
   ]
  },
  {
   "cell_type": "markdown",
   "id": "4ad9b4d5",
   "metadata": {},
   "source": [
    "### 튜플 (Tuple)\n",
    "\n",
    "**생성과 접근**\n",
    "```python\n",
    "(value1, value2)\n",
    "```\n",
    "\n",
    "튜플은 리스트와 유사하지만, `()`로 묶어서 표현합니다.\n",
    "\n",
    "- tuple은 수정 불가능(불변, immutable)합니다.\n",
    "\n",
    "- 직접 사용하기 보다는 파이썬 내부에서 다양한 용도로 활용되고 있습니다."
   ]
  },
  {
   "cell_type": "code",
   "execution_count": null,
   "id": "c6e94c71",
   "metadata": {},
   "outputs": [],
   "source": [
    "# tuple을 만들어봅시다.\n",
    "# 변수명이 my_tuple인 tuple을 만들어 봅시다. 단, 무작위 정수 2개를 포함하여 만듭니다.\n",
    "# my_tuple의 타입을 출력해 봅시다."
   ]
  },
  {
   "cell_type": "code",
   "execution_count": 26,
   "id": "cce3e0e1",
   "metadata": {},
   "outputs": [
    {
     "data": {
      "text/plain": [
       "3"
      ]
     },
     "execution_count": 26,
     "metadata": {},
     "output_type": "execute_result"
    }
   ],
   "source": [
    "t1 = (1,2)\n",
    "t2 = (1 + 2)\n",
    "t2"
   ]
  },
  {
   "cell_type": "code",
   "execution_count": null,
   "id": "42823195",
   "metadata": {},
   "outputs": [],
   "source": [
    "# 아래와 같은 방식으로도 만들 수 있습니다."
   ]
  },
  {
   "cell_type": "code",
   "execution_count": 29,
   "id": "faeec185",
   "metadata": {},
   "outputs": [
    {
     "data": {
      "text/plain": [
       "tuple"
      ]
     },
     "execution_count": 29,
     "metadata": {},
     "output_type": "execute_result"
    }
   ],
   "source": [
    "t2 = 1, 2, 3\n",
    "type(t2)"
   ]
  },
  {
   "cell_type": "code",
   "execution_count": 30,
   "id": "5fc84e25",
   "metadata": {},
   "outputs": [
    {
     "data": {
      "text/plain": [
       "(1, 2)"
      ]
     },
     "execution_count": 30,
     "metadata": {},
     "output_type": "execute_result"
    }
   ],
   "source": [
    "x = 1\n",
    "y = 2\n",
    "\n",
    "x, y\n"
   ]
  },
  {
   "cell_type": "markdown",
   "id": "1f9d2530",
   "metadata": {},
   "source": [
    "**튜플 생성 주의 사항**\n",
    "- 단일 항목의 경우"
   ]
  },
  {
   "cell_type": "code",
   "execution_count": 31,
   "id": "9ac1436c",
   "metadata": {},
   "outputs": [
    {
     "data": {
      "text/plain": [
       "tuple"
      ]
     },
     "execution_count": 31,
     "metadata": {},
     "output_type": "execute_result"
    }
   ],
   "source": [
    "# 하나의 항목으로 구성된 튜플은 생성 시 값 뒤에 쉼표를 붙여야 합니다. -> 중요!!!\n",
    "# 아래 코드를 실행하여 변수 a의 타입을 확인해 봅시다.\n",
    "\n",
    "a = (1, ) # comma 없으면 int로 나옴\n",
    "type(a)"
   ]
  },
  {
   "cell_type": "code",
   "execution_count": null,
   "id": "d84bf9a9",
   "metadata": {},
   "outputs": [],
   "source": [
    "# 변수명이 single_tuple인 하나의 요소(값)로 구성된 tuple을 만들어 봅시다. (길이가 1)\n",
    "# 하나의 요소(값)로 구성된 tuple은 값 뒤에 쉼표를 붙여서 만듭니다.\n",
    "# single_tuple의 타입을 출력해 봅시다.\n",
    "# single_tuple의 길이를 출력해 봅시다."
   ]
  },
  {
   "cell_type": "code",
   "execution_count": 32,
   "id": "e388f635",
   "metadata": {},
   "outputs": [
    {
     "data": {
      "text/plain": [
       "tuple"
      ]
     },
     "execution_count": 32,
     "metadata": {},
     "output_type": "execute_result"
    }
   ],
   "source": [
    "t1 = (1, )\n",
    "type(t1)"
   ]
  },
  {
   "cell_type": "code",
   "execution_count": null,
   "id": "9b02cfcb",
   "metadata": {},
   "outputs": [],
   "source": [
    "# 길이가 1인 tuple을 만들 때 쉼표가 없는 경우 어떻게 되는지 확인 해봅시다."
   ]
  },
  {
   "cell_type": "code",
   "execution_count": null,
   "id": "a8686377",
   "metadata": {},
   "outputs": [],
   "source": []
  },
  {
   "cell_type": "markdown",
   "id": "8a90b049",
   "metadata": {},
   "source": [
    "- 복수 항목의 경우"
   ]
  },
  {
   "cell_type": "code",
   "execution_count": 1,
   "id": "565b6b5c",
   "metadata": {},
   "outputs": [],
   "source": [
    "# 마지막 항목에 붙은 쉼표는 생략 할 수 있습니다.\n",
    "# 아래 코드를 실행하여 변수 b와 c의 타입을 확인해 봅시다."
   ]
  },
  {
   "cell_type": "code",
   "execution_count": 33,
   "id": "5681ff44",
   "metadata": {},
   "outputs": [
    {
     "data": {
      "text/plain": [
       "tuple"
      ]
     },
     "execution_count": 33,
     "metadata": {},
     "output_type": "execute_result"
    }
   ],
   "source": [
    "b = 1, 2, 3\n",
    "type(b)"
   ]
  },
  {
   "cell_type": "code",
   "execution_count": 34,
   "id": "1f448eb6",
   "metadata": {},
   "outputs": [
    {
     "data": {
      "text/plain": [
       "tuple"
      ]
     },
     "execution_count": 34,
     "metadata": {},
     "output_type": "execute_result"
    }
   ],
   "source": [
    "c = 1, 2, 3, \n",
    "type(c)"
   ]
  },
  {
   "cell_type": "markdown",
   "id": "469fe669",
   "metadata": {},
   "source": [
    "**튜플 대입**\n",
    "- 우변의 값을 좌변의 변수에 한번에 할당하는 과정을 의미합니다.\n",
    "- 튜플은 일반적으로 파이썬 내부에서 활용됩니다.\n",
    "    - 추후 함수 파트에서 복수의 값을 반환하는 경우에도 확인할 수 있습니다."
   ]
  },
  {
   "cell_type": "code",
   "execution_count": null,
   "id": "7f063de5",
   "metadata": {},
   "outputs": [],
   "source": [
    "# 파이썬 내부에서는 다음과 같이 활용됩니다. (변수 및 자료형 예제에서 사용된 코드입니다.)"
   ]
  },
  {
   "cell_type": "code",
   "execution_count": 35,
   "id": "03e5639c",
   "metadata": {},
   "outputs": [],
   "source": [
    "x, y = 1, 2"
   ]
  },
  {
   "cell_type": "code",
   "execution_count": 36,
   "id": "baf5eca1",
   "metadata": {},
   "outputs": [],
   "source": [
    "# 실제로는 tuple로 처리됩니다."
   ]
  },
  {
   "cell_type": "code",
   "execution_count": 39,
   "id": "18f8de26",
   "metadata": {},
   "outputs": [],
   "source": [
    "(x, y) = (1, 2)"
   ]
  },
  {
   "cell_type": "code",
   "execution_count": 40,
   "id": "47b164f8",
   "metadata": {},
   "outputs": [],
   "source": [
    "# 변수의 값을 swap하는 코드 역시 tuple을 활용하고 있습니다. "
   ]
  },
  {
   "cell_type": "code",
   "execution_count": 43,
   "id": "08f995bc",
   "metadata": {
    "scrolled": true
   },
   "outputs": [
    {
     "data": {
      "text/plain": [
       "tuple"
      ]
     },
     "execution_count": 43,
     "metadata": {},
     "output_type": "execute_result"
    }
   ],
   "source": [
    "empty = ()\n",
    "type(empty)"
   ]
  },
  {
   "cell_type": "code",
   "execution_count": null,
   "id": "75405fbf",
   "metadata": {},
   "outputs": [],
   "source": [
    "# 변수명이 empty인 빈 tuple을 만들어 봅시다.\n",
    "# 빈 tuple은 빈 괄호 쌍으로 만들어집니다.\n",
    "# empty의 타입을 출력해 봅시다.\n",
    "# empty의 길이를 출력해 봅시다."
   ]
  },
  {
   "cell_type": "code",
   "execution_count": 42,
   "id": "c4946488",
   "metadata": {},
   "outputs": [
    {
     "ename": "TypeError",
     "evalue": "'tuple' object does not support item assignment",
     "output_type": "error",
     "traceback": [
      "\u001b[0;31m---------------------------------------------------------------------------\u001b[0m",
      "\u001b[0;31mTypeError\u001b[0m                                 Traceback (most recent call last)",
      "Cell \u001b[0;32mIn[42], line 4\u001b[0m\n\u001b[1;32m      1\u001b[0m tt \u001b[38;5;241m=\u001b[39m (\u001b[38;5;241m1\u001b[39m, \u001b[38;5;241m2\u001b[39m, \u001b[38;5;241m3\u001b[39m)\n\u001b[1;32m      3\u001b[0m tt[\u001b[38;5;241m0\u001b[39m]\n\u001b[0;32m----> 4\u001b[0m \u001b[43mtt\u001b[49m\u001b[43m[\u001b[49m\u001b[38;5;241;43m0\u001b[39;49m\u001b[43m]\u001b[49m \u001b[38;5;241m=\u001b[39m \u001b[38;5;241m100\u001b[39m\n",
      "\u001b[0;31mTypeError\u001b[0m: 'tuple' object does not support item assignment"
     ]
    }
   ],
   "source": [
    "tt = (1, 2, 3)\n",
    "\n",
    "tt[0]  # 가능 (시퀀스 - 순서 있으니까 idx 접근 가능)\n",
    "tt[0] = 100  # 불가능 (immutable)"
   ]
  },
  {
   "cell_type": "markdown",
   "id": "a8ae3f78",
   "metadata": {},
   "source": [
    "### 레인지 (range())\n",
    "\n",
    "`range` 는 정수의 시퀀스를 나타내기 위해 사용됩니다.\n",
    "\n",
    "기본형 : `range(n)` \n",
    "\n",
    "\n",
    "> 0부터 n-1까지 값을 가짐\n",
    "\n",
    "\n",
    "범위 지정 : `range(n, m)` \n",
    "\n",
    "> n부터 m-1까지 값을 가짐\n",
    "\n",
    "범위 및 스텝 지정 : `range(n, m, s)`\n",
    "\n",
    "> n부터 m-1까지 +s만큼 증가한다"
   ]
  },
  {
   "cell_type": "code",
   "execution_count": null,
   "id": "24b0efba",
   "metadata": {},
   "outputs": [],
   "source": [
    "# range를 만들어봅시다.\n",
    "# 0부터 2까지 값을 가지는 range를 만들고 타입을 출력해 봅시다."
   ]
  },
  {
   "cell_type": "code",
   "execution_count": 44,
   "id": "b3e223fe",
   "metadata": {},
   "outputs": [
    {
     "data": {
      "text/plain": [
       "range(0, 3)"
      ]
     },
     "execution_count": 44,
     "metadata": {},
     "output_type": "execute_result"
    }
   ],
   "source": [
    "range(3)\n",
    "\n",
    "# Range는 범위라는 단어이지만, 0 <= x < 3 즉, 0,1,2,1.1,2.3132456.... -> 이거 아님!! 정수만 int만 포함!"
   ]
  },
  {
   "cell_type": "code",
   "execution_count": null,
   "id": "afd2b8d1",
   "metadata": {},
   "outputs": [],
   "source": [
    "# 0부터 9까지 값을 가지는 range를 만들고 list로 형 변환을 해 봅시다.\n",
    "# 작성한 range를 list()로 감싸 형 변환 할 수 있습니다."
   ]
  },
  {
   "cell_type": "code",
   "execution_count": 46,
   "id": "dc2399c4",
   "metadata": {},
   "outputs": [
    {
     "data": {
      "text/plain": [
       "[0, 1, 2, 3, 4, 5, 6, 7, 8, 9]"
      ]
     },
     "execution_count": 46,
     "metadata": {},
     "output_type": "execute_result"
    }
   ],
   "source": [
    "r = range(0, 10)  #range(10)\n",
    "list(r)"
   ]
  },
  {
   "cell_type": "code",
   "execution_count": null,
   "id": "c2dcec98",
   "metadata": {},
   "outputs": [],
   "source": [
    "# 4부터 8까지의 숫자를 담은 range를 만들고 list로 형 변환을 해 봅시다."
   ]
  },
  {
   "cell_type": "code",
   "execution_count": 48,
   "id": "d78c1167",
   "metadata": {},
   "outputs": [
    {
     "data": {
      "text/plain": [
       "[4, 5, 6, 7, 8]"
      ]
     },
     "execution_count": 48,
     "metadata": {},
     "output_type": "execute_result"
    }
   ],
   "source": [
    "list(range(4, 9))"
   ]
  },
  {
   "cell_type": "code",
   "execution_count": null,
   "id": "14d6c5dd",
   "metadata": {},
   "outputs": [],
   "source": [
    "# range(start, end, [step, ])을 활용합니다.\n",
    "# 0부터 -9까지 담긴 range를 만들고 list로 형 변환을 해 봅시다.\n",
    "# 출력 결과는 다음과 같습니다.\n",
    "# [0, -1, -2, -3, -4, -5, -6, -7, -8, -9]"
   ]
  },
  {
   "cell_type": "code",
   "execution_count": 54,
   "id": "ea9bf458",
   "metadata": {},
   "outputs": [
    {
     "name": "stdout",
     "output_type": "stream",
     "text": [
      "True\n"
     ]
    },
    {
     "data": {
      "text/plain": [
       "([0, 2, 4, 6, 8, 10], [0, -1, -2, -3, -4, -5, -6, -7, -8, -9])"
      ]
     },
     "execution_count": 54,
     "metadata": {},
     "output_type": "execute_result"
    }
   ],
   "source": [
    "print(range(10) == range(0, 10) == range(0, 10, 1))\n",
    "\n",
    "r1 = range(0, 11, 2)\n",
    "r2 = range(0, -10, -1)\n",
    "list(r1), list(r2)"
   ]
  },
  {
   "cell_type": "code",
   "execution_count": 57,
   "id": "f6781767",
   "metadata": {},
   "outputs": [
    {
     "ename": "TypeError",
     "evalue": "'range' object does not support item assignment",
     "output_type": "error",
     "traceback": [
      "\u001b[0;31m---------------------------------------------------------------------------\u001b[0m",
      "\u001b[0;31mTypeError\u001b[0m                                 Traceback (most recent call last)",
      "Cell \u001b[0;32mIn[57], line 1\u001b[0m\n\u001b[0;32m----> 1\u001b[0m \u001b[38;5;28;43mrange\u001b[39;49m\u001b[43m(\u001b[49m\u001b[38;5;241;43m10\u001b[39;49m\u001b[43m)\u001b[49m\u001b[43m[\u001b[49m\u001b[38;5;241;43m-\u001b[39;49m\u001b[38;5;241;43m1\u001b[39;49m\u001b[43m]\u001b[49m \u001b[38;5;241m=\u001b[39m \u001b[38;5;241m10\u001b[39m\n",
      "\u001b[0;31mTypeError\u001b[0m: 'range' object does not support item assignment"
     ]
    }
   ],
   "source": [
    "range(10)[-1] = 10\n",
    "\n",
    "# idx 접근 가능. 즉, 순서가 있음\n",
    "# idx 수정은 불가능 => immutable"
   ]
  },
  {
   "cell_type": "markdown",
   "id": "1a99bb6d",
   "metadata": {},
   "source": [
    "### 패킹 / 언패킹 연산자 (Packing / Unpacking Operator)\n",
    "모든 시퀀스형(리스트, 튜플 등)은 패킹/언패킹 연산자 * 를 사용하여 객체의 패킹 또는 언패킹이 가능합니다.\n",
    "```python\n",
    "x, *y = i, j, k ...\n",
    "```"
   ]
  },
  {
   "cell_type": "code",
   "execution_count": 58,
   "id": "839722b3",
   "metadata": {},
   "outputs": [],
   "source": [
    "x, *y = 1, 2, 3, 4  # *(애스터리스크)의 뜻은 기타 등등. 즉, 기타 등등은 다 y에 할당 (패킹해줘)"
   ]
  },
  {
   "cell_type": "code",
   "execution_count": 59,
   "id": "4646c14e",
   "metadata": {},
   "outputs": [
    {
     "name": "stdout",
     "output_type": "stream",
     "text": [
      "1\n"
     ]
    },
    {
     "data": {
      "text/plain": [
       "int"
      ]
     },
     "execution_count": 59,
     "metadata": {},
     "output_type": "execute_result"
    }
   ],
   "source": [
    "print(x)\n",
    "type(x)"
   ]
  },
  {
   "cell_type": "code",
   "execution_count": 60,
   "id": "884a6432",
   "metadata": {},
   "outputs": [
    {
     "name": "stdout",
     "output_type": "stream",
     "text": [
      "[2, 3, 4]\n",
      "2 3 4\n"
     ]
    },
    {
     "data": {
      "text/plain": [
       "list"
      ]
     },
     "execution_count": 60,
     "metadata": {},
     "output_type": "execute_result"
    }
   ],
   "source": [
    "print(y)  # print([2, 3, 4])\n",
    "print(*y)  # print(2, 3, 4) 압축 해제!! 언패킹\n",
    "type(y)"
   ]
  },
  {
   "cell_type": "markdown",
   "id": "c3ef3ef6",
   "metadata": {},
   "source": [
    "**언패킹**\n",
    "- argument 이름이 *로 시작하는 경우, argument unpacking이라고 부릅니다.\n",
    "- 패킹의 경우, 리스트로 대입합니다."
   ]
  },
  {
   "cell_type": "code",
   "execution_count": 62,
   "id": "de7e960c",
   "metadata": {},
   "outputs": [],
   "source": [
    "def multiply(x, y, z):\n",
    "    return x * y * z"
   ]
  },
  {
   "cell_type": "markdown",
   "id": "cbfc6063",
   "metadata": {},
   "source": [
    "- 언패킹의 경우, 튜플 형태로 대입합니다."
   ]
  },
  {
   "cell_type": "code",
   "execution_count": 63,
   "id": "f7bb5413",
   "metadata": {},
   "outputs": [
    {
     "name": "stdout",
     "output_type": "stream",
     "text": [
      "8\n"
     ]
    },
    {
     "ename": "TypeError",
     "evalue": "multiply() missing 2 required positional arguments: 'y' and 'z'",
     "output_type": "error",
     "traceback": [
      "\u001b[0;31m---------------------------------------------------------------------------\u001b[0m",
      "\u001b[0;31mTypeError\u001b[0m                                 Traceback (most recent call last)",
      "Cell \u001b[0;32mIn[63], line 3\u001b[0m\n\u001b[1;32m      1\u001b[0m numbers \u001b[38;5;241m=\u001b[39m [\u001b[38;5;241m1\u001b[39m, \u001b[38;5;241m2\u001b[39m, \u001b[38;5;241m3\u001b[39m]\n\u001b[1;32m      2\u001b[0m \u001b[38;5;28mprint\u001b[39m(multiply(\u001b[38;5;241m2\u001b[39m, \u001b[38;5;241m2\u001b[39m, \u001b[38;5;241m2\u001b[39m))\n\u001b[0;32m----> 3\u001b[0m \u001b[43mmultiply\u001b[49m\u001b[43m(\u001b[49m\u001b[43mnumbers\u001b[49m\u001b[43m)\u001b[49m  \u001b[38;5;66;03m# multiply([1, 2, 3])\u001b[39;00m\n\u001b[1;32m      4\u001b[0m multiply(\u001b[38;5;241m*\u001b[39mnumbers)  \u001b[38;5;66;03m# multiply(1, 2, 3) \u001b[39;00m\n",
      "\u001b[0;31mTypeError\u001b[0m: multiply() missing 2 required positional arguments: 'y' and 'z'"
     ]
    }
   ],
   "source": [
    "numbers = [1, 2, 3]\n",
    "print(multiply(2, 2, 2))\n",
    "multiply(numbers)  # multiply([1, 2, 3]) x자리에 이 리스트가 그대로 들어가버린다. 그리고 y와 z에는 할당 x\n",
    "multiply(*numbers)  # multiply(1, 2, 3) 얘는 왜 될까? 압축 해제했으니까!"
   ]
  },
  {
   "cell_type": "markdown",
   "id": "f49b99d0",
   "metadata": {},
   "source": [
    "**패킹**\n",
    "- 대입문의 좌변 변수에 위치합니다.\n",
    "- 우변의 객체 수가 좌변의 변수 수보다 많을 경우 객체를 순서대로 대입합니다.\n",
    "- 나머지 항목들은 모두 별 기호 표시된 변수에 리스트로 대입합니다."
   ]
  },
  {
   "cell_type": "markdown",
   "id": "3172e4cf",
   "metadata": {},
   "source": [
    "**패킹/언패킹 연산자 주의사항**\n",
    "\n",
    "` * ` 연산자가 곱셈을 의미하는지 패킹/언패킹 연산자인지 구분하여야 합니다.\n",
    "- 패킹/언패킹 연산자의 경우\n",
    "    1. 연산자가 대입식의 좌측에 위치하는 경우\n",
    "    2. 연산자가 단항 연산자로 사용되는 경우\n",
    "        - 단항 연산자 : 하나의 항을 대상으로 연산이 이루어지는 연산자\n",
    "        \n",
    "        \n",
    "- 산술연산자의 경우\n",
    "    1. 연산자가 이항연산자로 사용되는 경우\n",
    "        - 이항 연산자 : 두 개의 항을 대상으로 연산이 이루어지는 연산자"
   ]
  },
  {
   "cell_type": "code",
   "execution_count": null,
   "id": "27a6106b",
   "metadata": {},
   "outputs": [],
   "source": [
    "1 + 2 # + 연산을 위해 필요한 값 -> 2개 -> 2항 연산자\n",
    "3 - 2 # 2항 연산자\n",
    "\n",
    "\n",
    "not True #True 1개 -> 단항 연산자\n",
    "+3 # 2항연산자..? ㄴㄴ 같은 + 연산자지만, 상황에 따라 단항 연산자\n",
    "-1\n",
    "print(*[1, 2, 3]) # 같은 * 기호를 쓰지만, 뜻이 다른 단항 연산자"
   ]
  },
  {
   "cell_type": "markdown",
   "id": "3f88fb19",
   "metadata": {},
   "source": [
    "## 비 시퀀스형(Non-sequence) 컨테이너\n",
    "\n",
    "- 세트(set)\n",
    "\n",
    "- 딕셔너리(dictionary)"
   ]
  },
  {
   "cell_type": "markdown",
   "id": "eeb38e06",
   "metadata": {},
   "source": [
    "### 세트 (Set)\n",
    "\n",
    "`set`은 순서가 없고 중복된 값이 없는 자료구조입니다.\n",
    "\n",
    "* `set`은 수학에서의 집합과 동일하게 처리됩니다. \n",
    "\n",
    "* `set`은 중괄호`{}`를 통해 만들며, 순서가 없고 중복된 값이 없습니다.\n",
    "\n",
    "* 담고있는 객체를 삽입 변경, 삭제 가능 (mutable) 합니다.\n",
    "\n",
    "* 빈 세트를 만들려면 `set()`을 사용해야 합니다. (`{}`로 사용 불가능)\n",
    "\n",
    "* 활용 가능한 연산자는 차집합(`-`), 합집합(`|`), 교집합(`&`)입니다.\n",
    "\n",
    "**생성과 접근**\n",
    "```python\n",
    "{value1, value2, value3}\n",
    "```"
   ]
  },
  {
   "cell_type": "code",
   "execution_count": null,
   "id": "2f5ba10f",
   "metadata": {},
   "outputs": [],
   "source": [
    "# set 두개를 만들어서 연산자들을 활용해봅시다."
   ]
  },
  {
   "cell_type": "code",
   "execution_count": 64,
   "id": "477ad5ff",
   "metadata": {},
   "outputs": [],
   "source": [
    "s1 = {1, 2, 3}\n",
    "s2 = {3, 4, 5}"
   ]
  },
  {
   "cell_type": "markdown",
   "id": "684d0cb6",
   "metadata": {},
   "source": [
    "* 차집합은 연산자 `-`를 사용합니다."
   ]
  },
  {
   "cell_type": "code",
   "execution_count": 65,
   "id": "aaed396e",
   "metadata": {},
   "outputs": [],
   "source": [
    "# set_a와 set_b의 차집합을 구해봅시다."
   ]
  },
  {
   "cell_type": "code",
   "execution_count": 67,
   "id": "7c6d2ff6",
   "metadata": {},
   "outputs": [
    {
     "data": {
      "text/plain": [
       "{1, 2}"
      ]
     },
     "execution_count": 67,
     "metadata": {},
     "output_type": "execute_result"
    }
   ],
   "source": [
    "s1 - s2"
   ]
  },
  {
   "cell_type": "markdown",
   "id": "f6011cd1",
   "metadata": {},
   "source": [
    "* 합집합은 연산자 `|`를 사용합니다."
   ]
  },
  {
   "cell_type": "code",
   "execution_count": 68,
   "id": "47fa4cc9",
   "metadata": {},
   "outputs": [],
   "source": [
    "# set_a와 set_b의 합집합을 구해봅시다."
   ]
  },
  {
   "cell_type": "code",
   "execution_count": 69,
   "id": "8d329fd2",
   "metadata": {},
   "outputs": [
    {
     "data": {
      "text/plain": [
       "{1, 2, 3, 4, 5}"
      ]
     },
     "execution_count": 69,
     "metadata": {},
     "output_type": "execute_result"
    }
   ],
   "source": [
    "s1 | s2"
   ]
  },
  {
   "cell_type": "markdown",
   "id": "6854ea2e",
   "metadata": {},
   "source": [
    "* 교집합은 연산자 `&`을 사용합니다."
   ]
  },
  {
   "cell_type": "code",
   "execution_count": 70,
   "id": "846145d7",
   "metadata": {},
   "outputs": [],
   "source": [
    "# set_a와 set_b의 교집합을 구해봅시다."
   ]
  },
  {
   "cell_type": "code",
   "execution_count": 71,
   "id": "478d5480",
   "metadata": {},
   "outputs": [
    {
     "data": {
      "text/plain": [
       "{3}"
      ]
     },
     "execution_count": 71,
     "metadata": {},
     "output_type": "execute_result"
    }
   ],
   "source": [
    "s1 & s2"
   ]
  },
  {
   "cell_type": "code",
   "execution_count": 72,
   "id": "4186161e",
   "metadata": {},
   "outputs": [],
   "source": [
    "# set은 중복된 값이 있을 수 없습니다."
   ]
  },
  {
   "cell_type": "code",
   "execution_count": 74,
   "id": "3456e8e8",
   "metadata": {},
   "outputs": [
    {
     "data": {
      "text/plain": [
       "{1, 2, 3}"
      ]
     },
     "execution_count": 74,
     "metadata": {},
     "output_type": "execute_result"
    }
   ],
   "source": [
    "s3 = {1, 1, 1, 2, 3}\n",
    "s3"
   ]
  },
  {
   "cell_type": "markdown",
   "id": "b55b0529",
   "metadata": {},
   "source": [
    "* `set`을 활용하면 `list`의 중복된 값을 손쉽게 제거할 수 있습니다.\n",
    "* 단, `set`으로 변환하는 순간 순서를 보장할 수 없습니다."
   ]
  },
  {
   "cell_type": "code",
   "execution_count": 75,
   "id": "66831aca",
   "metadata": {},
   "outputs": [],
   "source": [
    "# set으로 중복된 값을 제거해봅시다.\n",
    "# 문자열 서울, 서울, 대전, 광주, 서울, 대전, 부산, 부산를 원소로 가지는 set를 만듭니다.\n",
    "# 생성한 세트의 길이를 출력해 봅시다."
   ]
  },
  {
   "cell_type": "code",
   "execution_count": 77,
   "id": "76480cf4",
   "metadata": {},
   "outputs": [
    {
     "data": {
      "text/plain": [
       "4"
      ]
     },
     "execution_count": 77,
     "metadata": {},
     "output_type": "execute_result"
    }
   ],
   "source": [
    "s4 = {'서울', '서울', '대전', '광주', '서울', '대전', '부산', '부산'} # 가나다 순으로 나옴. 즉, 순서가 없고, 순서를 보장할 수 없음\n",
    "len(s4)"
   ]
  },
  {
   "cell_type": "code",
   "execution_count": null,
   "id": "4acdbe48",
   "metadata": {},
   "outputs": [],
   "source": [
    "# 생성한 세트를 출력해 봅시다.\n",
    "# 세트는 순서를 보장하지 않습니다."
   ]
  },
  {
   "cell_type": "code",
   "execution_count": 80,
   "id": "5d0278db",
   "metadata": {},
   "outputs": [
    {
     "name": "stdout",
     "output_type": "stream",
     "text": [
      "{'제주', '서울', '광주', '대전', '부산'}\n"
     ]
    }
   ],
   "source": [
    "print(s4)\n",
    "\n",
    "s4.add('제주')"
   ]
  },
  {
   "cell_type": "code",
   "execution_count": 82,
   "id": "e74b7ec5",
   "metadata": {},
   "outputs": [
    {
     "data": {
      "text/plain": [
       "[1, 2, 3, 4]"
      ]
     },
     "execution_count": 82,
     "metadata": {},
     "output_type": "execute_result"
    }
   ],
   "source": [
    "# set는 중복제거에 특화됨\n",
    "\n",
    "numbers = [1, 1, 1, 2, 2, 3, 3, 4]\n",
    "uniqs = list(set(numbers))\n",
    "\n",
    "uniqs"
   ]
  },
  {
   "cell_type": "markdown",
   "id": "b23ba907",
   "metadata": {},
   "source": [
    "### 딕셔너리 (dictionary)\n",
    "\n",
    "`dictionary`는 `key`와 `value`가 쌍으로 이뤄져있습니다.\n",
    "\n",
    "\n",
    "<center><img src=\"https://user-images.githubusercontent.com/18046097/61180427-1405d880-a651-11e9-94e1-1cc5c2a2ff34.png\"></center> "
   ]
  },
  {
   "cell_type": "markdown",
   "id": "c7091eb0",
   "metadata": {},
   "source": [
    "**생성과 접근**\n",
    "\n",
    "```python\n",
    "{Key1:Value1, Key2:Value2, Key3:Value3, ...}\n",
    "```\n",
    "\n",
    "* `{}`를 통해 만들며, `dict()`로 만들 수 있습니다.\n",
    "* 순서를 보장하지 않습니다.\n",
    "* `key`는 **변경 불가능(immutable)한 데이터**만 가능합니다. (immutable : string, integer, float, boolean, tuple, range)\n",
    "* `value`는 `list`, `dictionary`를 포함한 모든 것이 가능합니다."
   ]
  },
  {
   "cell_type": "code",
   "execution_count": null,
   "id": "8b893c3e",
   "metadata": {},
   "outputs": [],
   "source": [
    "# 비어있는 dictionary를 두가지 방법으로 만들어봅시다.\n",
    "# {}와 dict()로 만들 수 있습니다.\n",
    "# 두 변수의 타입을 출력해 봅시다."
   ]
  },
  {
   "cell_type": "code",
   "execution_count": 84,
   "id": "d42bffc2",
   "metadata": {},
   "outputs": [
    {
     "data": {
      "text/plain": [
       "(True, dict)"
      ]
     },
     "execution_count": 84,
     "metadata": {},
     "output_type": "execute_result"
    }
   ],
   "source": [
    "d1 = {}\n",
    "d2 = dict()\n",
    "d1 == d2, type(d1)"
   ]
  },
  {
   "cell_type": "code",
   "execution_count": null,
   "id": "93145495",
   "metadata": {},
   "outputs": [],
   "source": [
    "# dictionary에 중복된 key는 존재할 수 없습니다."
   ]
  },
  {
   "cell_type": "code",
   "execution_count": 90,
   "id": "8331b9fa",
   "metadata": {},
   "outputs": [
    {
     "data": {
      "text/plain": [
       "{'a': 3}"
      ]
     },
     "execution_count": 90,
     "metadata": {},
     "output_type": "execute_result"
    }
   ],
   "source": [
    "{'a': 1, 'a': 2, 'a': 3}"
   ]
  },
  {
   "cell_type": "code",
   "execution_count": null,
   "id": "32a91991",
   "metadata": {},
   "outputs": [],
   "source": [
    "# 지역번호가 담긴 전화번호부를 만들어봅시다.\n",
    "# 변수 phone_book에 key를 지역명, value를 지역번호로 가지는 원소를 작성합니다.\n",
    "# 예) 서울 - 02"
   ]
  },
  {
   "cell_type": "code",
   "execution_count": 94,
   "id": "8960bf32",
   "metadata": {},
   "outputs": [],
   "source": [
    "phone_book = {\n",
    "    '서울': '02', \n",
    "    '부산': '051', \n",
    "    '대구': '053',\n",
    "    '제주': '031', \n",
    "    '인천': '032', \n",
    "}\n",
    "\n",
    "# key 뒤에는 띄어쓰기 없이 콜론(:)작성, 밸류 전에는 띄어쓰기 필요!\n",
    "\n",
    "# 접근 (key를 알고 있어야 함) 없는 키로 접근 시 에러\n",
    "\n",
    "phone_book['서울']\n",
    "\n",
    "# 수정 (key를 알고 있어야 함)\n",
    "phone_book['서울'] = '022'\n",
    "\n",
    "# 추가\n",
    "phone_book['평양'] = '냉면'\n",
    "\n",
    "\n",
    "# 변경 -> key가 이미 존재한다면 수정, key가 없었다면 추가"
   ]
  },
  {
   "cell_type": "code",
   "execution_count": null,
   "id": "a5ac02a3",
   "metadata": {},
   "outputs": [],
   "source": [
    "# 위에서 작성한 phone_book이 가지고 있는 key 목록을 확인 해 봅시다.\n",
    "# dictionary의 .keys() 메소드를 활용하여 key를 확인 해볼 수 있습니다.\n",
    "\n",
    "# .이 붙었는데 ()가 있는 경우는 메소드라고 부른다."
   ]
  },
  {
   "cell_type": "code",
   "execution_count": 98,
   "id": "6232e674",
   "metadata": {},
   "outputs": [
    {
     "data": {
      "text/plain": [
       "dict_keys(['서울', '부산', '대구', '제주', '인천', '평양'])"
      ]
     },
     "execution_count": 98,
     "metadata": {},
     "output_type": "execute_result"
    }
   ],
   "source": [
    "phone_book.keys()"
   ]
  },
  {
   "cell_type": "code",
   "execution_count": null,
   "id": "21b12c96",
   "metadata": {},
   "outputs": [],
   "source": [
    "# 위에서 작성한 phone_book이 가지고 있는 value 목록을 확인 해 봅시다.\n",
    "# 딕셔너리의 .values() 메소드를 활용하여 value를 확인 해볼 수 있습니다."
   ]
  },
  {
   "cell_type": "code",
   "execution_count": 89,
   "id": "ad2ac53e",
   "metadata": {},
   "outputs": [
    {
     "data": {
      "text/plain": [
       "dict_values(['02', '051', '053', '031', '032'])"
      ]
     },
     "execution_count": 89,
     "metadata": {},
     "output_type": "execute_result"
    }
   ],
   "source": [
    "phone_book.values()"
   ]
  },
  {
   "cell_type": "code",
   "execution_count": null,
   "id": "af40fe3d",
   "metadata": {},
   "outputs": [],
   "source": [
    "# 위에서 작성한 phone_book이 가지고 있는 key와 value 목록을 확인 해 봅시다.\n",
    "# 딕셔너리의 .items() 메소드를 활용하여 key, value를 확인 해볼 수 있습니다."
   ]
  },
  {
   "cell_type": "code",
   "execution_count": 99,
   "id": "3f8d88a4",
   "metadata": {},
   "outputs": [],
   "source": [
    "students = [\n",
    "    {'name': '김재석', 'major': '심리', 'location': '분당', 'mbti': 'INFP'} #이 딕셔너리는 여러가지 데이터가 있지만 변수명은 단수형이다.\n",
    "]"
   ]
  },
  {
   "cell_type": "markdown",
   "id": "0c39fa15",
   "metadata": {},
   "source": [
    "## 컨테이너형 형변환\n",
    "\n",
    "파이썬에서 컨테이너는 서로 변환할 수 있습니다.\n",
    "\n",
    "<img width=\"708\" alt=\"typecasting\" src=\"https://user-images.githubusercontent.com/18046097/61180466-a6a67780-a651-11e9-8c0a-adb9e1ee04de.png\">\n"
   ]
  },
  {
   "cell_type": "code",
   "execution_count": null,
   "id": "137aa892",
   "metadata": {},
   "outputs": [],
   "source": [
    "# 하나의 결과를 확인 한 후, 주석 `#` 을 활용하여 이전의 코드를 비활성화 합니다. ctrl + shift로 주석 빼고 넣기 가능!!\n",
    "# 형변환 후의 결과를 확인 합니다."
   ]
  },
  {
   "cell_type": "code",
   "execution_count": 102,
   "id": "53345b39",
   "metadata": {},
   "outputs": [
    {
     "data": {
      "text/plain": [
       "'[1, 2, 3, 4]'"
      ]
     },
     "execution_count": 102,
     "metadata": {},
     "output_type": "execute_result"
    }
   ],
   "source": [
    "# list를 형변환 해봅시다.\n",
    "\n",
    "l = [1, 2, 3, 4]\n",
    "str(l)  # list => st·str(l)  # list => str\n",
    "# tuple(l)  # list => tuple\n",
    "# set(l)  # list => set\n",
    "# range(l)  # X\n",
    "# dict(l)  # X"
   ]
  },
  {
   "cell_type": "code",
   "execution_count": 108,
   "id": "147f21d3",
   "metadata": {},
   "outputs": [
    {
     "data": {
      "text/plain": [
       "{1, 2, 3, 4}"
      ]
     },
     "execution_count": 108,
     "metadata": {},
     "output_type": "execute_result"
    }
   ],
   "source": [
    "# tuple을 형변환 해봅시다.\n",
    "t = (1, 2, 3, 4)\n",
    "\n",
    "str(t)\n",
    "list(t)\n",
    "set(t)\n",
    "# range(t)\n",
    "# dict(t)"
   ]
  },
  {
   "cell_type": "code",
   "execution_count": 110,
   "id": "ad0ca134",
   "metadata": {},
   "outputs": [
    {
     "data": {
      "text/plain": [
       "'range(1, 5)'"
      ]
     },
     "execution_count": 110,
     "metadata": {},
     "output_type": "execute_result"
    }
   ],
   "source": [
    "# range를 형변환 해봅시다.\n",
    "r = range(1, 5)\n",
    "str(r)\n",
    "# list(r)\n",
    "# set(r)\n",
    "# tuple(r)\n",
    "# dict(r)"
   ]
  },
  {
   "cell_type": "code",
   "execution_count": 114,
   "id": "64a2ec3e",
   "metadata": {},
   "outputs": [
    {
     "ename": "TypeError",
     "evalue": "'set' object cannot be interpreted as an integer",
     "output_type": "error",
     "traceback": [
      "\u001b[0;31m---------------------------------------------------------------------------\u001b[0m",
      "\u001b[0;31mTypeError\u001b[0m                                 Traceback (most recent call last)",
      "Cell \u001b[0;32mIn[114], line 6\u001b[0m\n\u001b[1;32m      4\u001b[0m \u001b[38;5;28mlist\u001b[39m(s)\n\u001b[1;32m      5\u001b[0m \u001b[38;5;28mtuple\u001b[39m(s)\n\u001b[0;32m----> 6\u001b[0m \u001b[38;5;28;43mrange\u001b[39;49m\u001b[43m(\u001b[49m\u001b[43ms\u001b[49m\u001b[43m)\u001b[49m\n\u001b[1;32m      7\u001b[0m \u001b[38;5;66;03m# dict(s)\u001b[39;00m\n",
      "\u001b[0;31mTypeError\u001b[0m: 'set' object cannot be interpreted as an integer"
     ]
    }
   ],
   "source": [
    "# set을 형변환 해봅시다.\n",
    "s = {1, 2, 3, 4}\n",
    "str(s)\n",
    "list(s)\n",
    "tuple(s)\n",
    "range(s)\n",
    "# dict(s)"
   ]
  },
  {
   "cell_type": "code",
   "execution_count": 115,
   "id": "b3248a86",
   "metadata": {},
   "outputs": [
    {
     "data": {
      "text/plain": [
       "{'name', 'year'}"
      ]
     },
     "execution_count": 115,
     "metadata": {},
     "output_type": "execute_result"
    }
   ],
   "source": [
    "# dictionary를 형변환 해봅시다.\n",
    "d = {'name': 'jw', 'year': 2023}\n",
    "\n",
    "str(d)\n",
    "list(d) # key만 나옴!\n",
    "tuple(d) # key만 나옴!\n",
    "set(d) # key만 나옴!"
   ]
  },
  {
   "cell_type": "code",
   "execution_count": null,
   "id": "f3343f7a",
   "metadata": {},
   "outputs": [],
   "source": [
    "# mutable은 인덱싱이 가능하냐의 중요성보다는 객체가 변경 가능한지의 중요성으로 보는게 좋다."
   ]
  },
  {
   "cell_type": "code",
   "execution_count": 118,
   "id": "e9fd769c",
   "metadata": {},
   "outputs": [],
   "source": [
    "l = [1, 2, 3]\n",
    "l[0] = 100\n",
    "l\n",
    "\n",
    "# 값(객체) 살리는 방법 -> 이름을 부여하거나, 컨테이너에 넣기\n",
    "\n",
    "l = []\n",
    "l.append(1000)\n",
    "\n",
    "# 값(객체) 죽이는 방법 -> 이름 뺐기 / \n",
    "\n",
    "s = 1000\n",
    "s = 'asdf'\n",
    "del s\n"
   ]
  },
  {
   "cell_type": "markdown",
   "id": "953e2603",
   "metadata": {},
   "source": [
    "# 정리\n",
    "## 컨테이너(Container)\n",
    "<center><img src=\"https://user-images.githubusercontent.com/18046097/61180439-44e60d80-a651-11e9-9adc-e60fa57c2165.png\", alt=\"container\"/></center>"
   ]
  },
  {
   "cell_type": "markdown",
   "id": "46f3480b",
   "metadata": {},
   "source": [
    "## 멤버십 연산자 (Membership Operator)\n",
    "\n",
    "요소가 시퀀스에 속해있는지 확인할 수 있습니다.\n",
    "- `in` 연산자\n",
    "- `not in` 연산자"
   ]
  },
  {
   "cell_type": "code",
   "execution_count": 119,
   "id": "31d99a68",
   "metadata": {},
   "outputs": [
    {
     "data": {
      "text/plain": [
       "False"
      ]
     },
     "execution_count": 119,
     "metadata": {},
     "output_type": "execute_result"
    }
   ],
   "source": [
    "# 리스트안에 특정한 정수가 있는지 확인해봅시다.\n",
    "# 정수 1 이 [3, 2] 리스트에 속해있는지 확인해봅시다.\n",
    "5 in (1, 2, 'hi')"
   ]
  },
  {
   "cell_type": "code",
   "execution_count": null,
   "id": "6838da8d",
   "metadata": {},
   "outputs": [],
   "source": [
    "# 튜플안에 특정한 정수가 있는지 확인해봅시다.\n",
    "# 정수 5가 (1, 2, 'hi') 튜플에 속해있는지 확인해봅시다."
   ]
  },
  {
   "cell_type": "code",
   "execution_count": null,
   "id": "9fff2a1b",
   "metadata": {},
   "outputs": [],
   "source": [
    "# range안에 특정한 정수가 있는지 확인해봅시다.\n",
    "# -3이 range(3) 에 속해있는지 확인해봅시다."
   ]
  },
  {
   "cell_type": "code",
   "execution_count": 120,
   "id": "d9bb25fa",
   "metadata": {},
   "outputs": [
    {
     "data": {
      "text/plain": [
       "True"
      ]
     },
     "execution_count": 120,
     "metadata": {},
     "output_type": "execute_result"
    }
   ],
   "source": [
    "# 문자열안에 특정한 문자가 있는지 확인해봅시다.\n",
    "# 문자열 'a' 가 'apple' 에 속해있는지 확인해봅시다.\n",
    "\n",
    "'a' in 'apple'"
   ]
  },
  {
   "cell_type": "code",
   "execution_count": 121,
   "id": "356e083b",
   "metadata": {},
   "outputs": [
    {
     "data": {
      "text/plain": [
       "False"
      ]
     },
     "execution_count": 121,
     "metadata": {},
     "output_type": "execute_result"
    }
   ],
   "source": [
    "# 리스트안에 특정한 문자가 없는지 확인해봅시다.\n",
    "# 문자열 'b' 가 'apple' 에 속해있는지 확인해봅시다.\n",
    "\n",
    "'b' in 'apple'"
   ]
  },
  {
   "cell_type": "code",
   "execution_count": 122,
   "id": "24ac6038",
   "metadata": {},
   "outputs": [
    {
     "data": {
      "text/plain": [
       "False"
      ]
     },
     "execution_count": 122,
     "metadata": {},
     "output_type": "execute_result"
    }
   ],
   "source": [
    "'a' in {'A': 'a'}  # 왜냐하면 key만 보기 때문에!"
   ]
  },
  {
   "cell_type": "code",
   "execution_count": 123,
   "id": "d53feeb3",
   "metadata": {},
   "outputs": [
    {
     "data": {
      "text/plain": [
       "True"
      ]
     },
     "execution_count": 123,
     "metadata": {},
     "output_type": "execute_result"
    }
   ],
   "source": [
    "1 in {1, 2, 3}"
   ]
  },
  {
   "cell_type": "markdown",
   "id": "6aa9fbb6",
   "metadata": {},
   "source": [
    "## 시퀀스형 연산자(Sqeuence Type Operator)\n",
    "\n",
    "### 산술 연산자 (+)\n",
    "시퀀스를 연결(concatenation)할 수 있습니다. "
   ]
  },
  {
   "cell_type": "code",
   "execution_count": 124,
   "id": "df591585",
   "metadata": {},
   "outputs": [
    {
     "data": {
      "text/plain": [
       "[1, 2, 'a']"
      ]
     },
     "execution_count": 124,
     "metadata": {},
     "output_type": "execute_result"
    }
   ],
   "source": [
    "# 두 list [1, 2] 와 ['a'] 를 + 를 이용하여 합쳐봅시다.\n",
    "\n",
    "[1, 2] + ['a']"
   ]
  },
  {
   "cell_type": "code",
   "execution_count": 125,
   "id": "daf69a56",
   "metadata": {},
   "outputs": [
    {
     "data": {
      "text/plain": [
       "(1, 2, 'a')"
      ]
     },
     "execution_count": 125,
     "metadata": {},
     "output_type": "execute_result"
    }
   ],
   "source": [
    "# 두 튜플 (1, 2) 와 ('a',) 를 + 를 이용하여 합쳐봅시다.\n",
    "(1, 2) + ('a', )"
   ]
  },
  {
   "cell_type": "code",
   "execution_count": null,
   "id": "10529a48",
   "metadata": {},
   "outputs": [],
   "source": [
    "# range에는 사용할 수 없습니다.\n",
    "# range(1), range(2, 5) 를 + 를 이용하여 합치고자 할 때 발생하는 오류를 확인해 봅시다.\n"
   ]
  },
  {
   "cell_type": "code",
   "execution_count": 126,
   "id": "a91c3212",
   "metadata": {},
   "outputs": [
    {
     "ename": "TypeError",
     "evalue": "unsupported operand type(s) for +: 'range' and 'range'",
     "output_type": "error",
     "traceback": [
      "\u001b[0;31m---------------------------------------------------------------------------\u001b[0m",
      "\u001b[0;31mTypeError\u001b[0m                                 Traceback (most recent call last)",
      "Cell \u001b[0;32mIn[126], line 1\u001b[0m\n\u001b[0;32m----> 1\u001b[0m \u001b[38;5;28;43mrange\u001b[39;49m\u001b[43m(\u001b[49m\u001b[38;5;241;43m1\u001b[39;49m\u001b[43m)\u001b[49m\u001b[43m \u001b[49m\u001b[38;5;241;43m+\u001b[39;49m\u001b[43m \u001b[49m\u001b[38;5;28;43mrange\u001b[39;49m\u001b[43m(\u001b[49m\u001b[38;5;241;43m2\u001b[39;49m\u001b[43m,\u001b[49m\u001b[43m \u001b[49m\u001b[38;5;241;43m5\u001b[39;49m\u001b[43m)\u001b[49m\n",
      "\u001b[0;31mTypeError\u001b[0m: unsupported operand type(s) for +: 'range' and 'range'"
     ]
    }
   ],
   "source": [
    "range(1) + range(2, 5)"
   ]
  },
  {
   "cell_type": "code",
   "execution_count": null,
   "id": "8fdccaa4",
   "metadata": {},
   "outputs": [],
   "source": [
    "# 두 문자열 '12' 와 'a' 를 + 를 이용하여 합쳐봅시다."
   ]
  },
  {
   "cell_type": "markdown",
   "id": "cfbeaa70",
   "metadata": {},
   "source": [
    "### 반복 연산자 (*)\n",
    "시퀀스를 반복할 수 있습니다."
   ]
  },
  {
   "cell_type": "code",
   "execution_count": 127,
   "id": "3dca2d69",
   "metadata": {},
   "outputs": [
    {
     "data": {
      "text/plain": [
       "[0, 0, 0, 0, 0, 0, 0, 0]"
      ]
     },
     "execution_count": 127,
     "metadata": {},
     "output_type": "execute_result"
    }
   ],
   "source": [
    "# 리스트 [0] 을 *을 이용해 8번 반복해봅시다.\n",
    "\n",
    "[0] * 8"
   ]
  },
  {
   "cell_type": "code",
   "execution_count": 128,
   "id": "820541cd",
   "metadata": {},
   "outputs": [
    {
     "data": {
      "text/plain": [
       "(1, 2, 1, 2, 1, 2)"
      ]
     },
     "execution_count": 128,
     "metadata": {},
     "output_type": "execute_result"
    }
   ],
   "source": [
    "# 튜플 (1, 2) 를 * 을 활용해 3번 반복해봅시다.\n",
    "\n",
    "(1, 2) * 3"
   ]
  },
  {
   "cell_type": "code",
   "execution_count": null,
   "id": "41fbe458",
   "metadata": {},
   "outputs": [],
   "source": [
    "# range에는 사용할 수 없습니다.\n",
    "# range(1) 을 * 연산자로 3번 반복하려고 할 때 발생하는 오류를 확인해 봅시다."
   ]
  },
  {
   "cell_type": "code",
   "execution_count": null,
   "id": "68b59727",
   "metadata": {},
   "outputs": [],
   "source": [
    "# 문자열 'hi' 를 * 을 활용해 3번 반복해봅시다.\n",
    "# 딕셔너리는 안된다! 왜? 키 값이 중복될 수 없어서"
   ]
  },
  {
   "cell_type": "markdown",
   "id": "29f80c36",
   "metadata": {},
   "source": [
    "## 기타 : 인덱싱/슬라이싱 (Indexing/Slicing)\n",
    "`[]`를 통한 값을 접근하고, `[:]`을 통해 슬라이싱할 수 있습니다. (data structure 챕터에서 자세하게 학습합니다.)"
   ]
  },
  {
   "cell_type": "markdown",
   "id": "0b4777de",
   "metadata": {},
   "source": [
    "### 인덱싱\n",
    "시퀀스의 특정 인덱스 값에 접근 할 수 있습니다.\n",
    "- 해당 인덱스가 없는 경우 IndexError가 발생합니다."
   ]
  },
  {
   "cell_type": "code",
   "execution_count": 131,
   "id": "6074f25e",
   "metadata": {},
   "outputs": [],
   "source": [
    "# 리스트를 인덱싱을 통해 값에 접근해봅시다.\n",
    "# 리스트 [1, 2, 3]의 세번째 값을 인덱싱으로 확인해봅시다.\n",
    "\n",
    "[1, 2, 3][2] = 10  # 이렇게 바꾸면 값이 없어져버리기 때문에 (바꾼 리스트는 이름이 없기 때문에)"
   ]
  },
  {
   "cell_type": "code",
   "execution_count": null,
   "id": "e038e036",
   "metadata": {},
   "outputs": [],
   "source": [
    "# 튜플을 인덱싱을 통해 값에 접근해봅시다.\n",
    "# 튜플 (1, 2, 3)의 첫번째 값을 인덱싱으로 확인해봅시다."
   ]
  },
  {
   "cell_type": "code",
   "execution_count": 132,
   "id": "f2756b00",
   "metadata": {},
   "outputs": [
    {
     "data": {
      "text/plain": [
       "2"
      ]
     },
     "execution_count": 132,
     "metadata": {},
     "output_type": "execute_result"
    }
   ],
   "source": [
    "# range를 인덱싱을 통해 값에 접근해봅시다.\n",
    "# range(3)의 세번째 값을 인덱싱으로 확인해봅시다.\n",
    "\n",
    "range(3)[2]\n"
   ]
  },
  {
   "cell_type": "code",
   "execution_count": 133,
   "id": "5e8861ed",
   "metadata": {},
   "outputs": [
    {
     "data": {
      "text/plain": [
       "'a'"
      ]
     },
     "execution_count": 133,
     "metadata": {},
     "output_type": "execute_result"
    }
   ],
   "source": [
    "# 문자열을 인덱싱을 통해 값에 접근해봅시다.\n",
    "# 문자열 'abc'의 첫번째 값을 인덱싱으로 확인해봅시다.\n",
    "\n",
    "'abc'[0]"
   ]
  },
  {
   "cell_type": "code",
   "execution_count": 134,
   "id": "eafe522a",
   "metadata": {},
   "outputs": [
    {
     "ename": "IndexError",
     "evalue": "string index out of range",
     "output_type": "error",
     "traceback": [
      "\u001b[0;31m---------------------------------------------------------------------------\u001b[0m",
      "\u001b[0;31mIndexError\u001b[0m                                Traceback (most recent call last)",
      "Cell \u001b[0;32mIn[134], line 4\u001b[0m\n\u001b[1;32m      1\u001b[0m \u001b[38;5;66;03m# 찾고자 하는 인덱스가 존재하지 않을때 오류가 발생합니다.\u001b[39;00m\n\u001b[1;32m      2\u001b[0m \u001b[38;5;66;03m# 문자열 apple의 100번째 값을 인덱싱으로 확인하고자 할 때 발생하는 오류를 확인해봅시다.\u001b[39;00m\n\u001b[0;32m----> 4\u001b[0m \u001b[38;5;124;43m'\u001b[39;49m\u001b[38;5;124;43mapple\u001b[39;49m\u001b[38;5;124;43m'\u001b[39;49m\u001b[43m[\u001b[49m\u001b[38;5;241;43m100\u001b[39;49m\u001b[43m]\u001b[49m\n",
      "\u001b[0;31mIndexError\u001b[0m: string index out of range"
     ]
    }
   ],
   "source": [
    "# 찾고자 하는 인덱스가 존재하지 않을때 오류가 발생합니다.\n",
    "# 문자열 apple의 100번째 값을 인덱싱으로 확인하고자 할 때 발생하는 오류를 확인해봅시다.\n",
    "\n",
    "'apple'[100]"
   ]
  },
  {
   "cell_type": "markdown",
   "id": "ffd08f33",
   "metadata": {},
   "source": [
    "### 슬라이싱\n",
    "- Sequence[start:end[:step]]\n",
    "\n",
    "시퀀스를 특정 단위로 슬라이싱 할 수 있습니다."
   ]
  },
  {
   "cell_type": "code",
   "execution_count": 135,
   "id": "acaa9388",
   "metadata": {},
   "outputs": [
    {
     "data": {
      "text/plain": [
       "[1, 3, 5, 7, 9]"
      ]
     },
     "execution_count": 135,
     "metadata": {},
     "output_type": "execute_result"
    }
   ],
   "source": [
    "# 아래 코드들을 실행한 결과를 확인하여 슬라이싱의 작동 원리를 파악해봅시다.\n",
    "\n",
    "list(range(1, 10, 2))"
   ]
  },
  {
   "cell_type": "code",
   "execution_count": 136,
   "id": "9bd5c09e",
   "metadata": {},
   "outputs": [
    {
     "name": "stdout",
     "output_type": "stream",
     "text": [
      "[2, 3, 4]\n",
      "(1, 2)\n",
      "range(5, 8)\n",
      "cd\n"
     ]
    }
   ],
   "source": [
    "'''\n",
    "[시작:끝:스텝]에서 [x:y:z]라고 할 때, \n",
    "[x:y] : x <= idx < y 이며, z = 1\n",
    "[x:] x <= idx < 길이\n",
    "[:y] 0 <= idx < y\n",
    "[:] 0 <= idx < 길이\n",
    "[::-1] range를 거꾸로\n",
    "\n",
    "''' \n",
    "# y 미만이라는 거를 기억하기!\n",
    "\n",
    "print([1, 2, 3, 4][1:4])  # 4번째 인덱스가 없어도 계산 가능하다.\n",
    "print((1, 2, 3)[:2])  \n",
    "print(range(10)[5:8])\n",
    "print('abcd'[2:4])  # slice 마지막 인덱스가 더 크더라도, 에러가 발생하지 않는다."
   ]
  },
  {
   "cell_type": "markdown",
   "id": "97e74fe7",
   "metadata": {},
   "source": [
    "시퀀스를 `k` 간격으로 슬라이싱 할 수 있습니다."
   ]
  },
  {
   "cell_type": "code",
   "execution_count": null,
   "id": "1cfc5b45",
   "metadata": {},
   "outputs": [],
   "source": [
    "# 아래 코드들을 실행한 결과를 확인하여 슬라이싱의 작동 원리를 파악해봅시다.\n",
    "# 문자열, 튜플, 레인지에서 모두 동일하게 동작합니다.\n"
   ]
  },
  {
   "cell_type": "code",
   "execution_count": 137,
   "id": "92a16635",
   "metadata": {},
   "outputs": [
    {
     "data": {
      "text/plain": [
       "'cde'"
      ]
     },
     "execution_count": 137,
     "metadata": {},
     "output_type": "execute_result"
    }
   ],
   "source": [
    "# 아래의 코드를 실행하여 결과를 확인해 봅시다.\n",
    "s = 'abcdefghi'\n",
    "s[2:5]"
   ]
  },
  {
   "cell_type": "code",
   "execution_count": 138,
   "id": "62756940",
   "metadata": {},
   "outputs": [
    {
     "data": {
      "text/plain": [
       "'ihgfedcba'"
      ]
     },
     "execution_count": 138,
     "metadata": {},
     "output_type": "execute_result"
    }
   ],
   "source": [
    "s[::-1]"
   ]
  },
  {
   "cell_type": "code",
   "execution_count": 139,
   "id": "b8a555c6",
   "metadata": {},
   "outputs": [
    {
     "data": {
      "text/plain": [
       "'abcd'"
      ]
     },
     "execution_count": 139,
     "metadata": {},
     "output_type": "execute_result"
    }
   ],
   "source": [
    "s[:4]"
   ]
  },
  {
   "cell_type": "code",
   "execution_count": 144,
   "id": "9a6636d9",
   "metadata": {},
   "outputs": [
    {
     "data": {
      "text/plain": [
       "[35, 21, 19, 5, 32, 22]"
      ]
     },
     "execution_count": 144,
     "metadata": {},
     "output_type": "execute_result"
    }
   ],
   "source": [
    "# 로또 번호 추첨\n",
    "\n",
    "'''\n",
    "1 ~ 45 자연수 중 랜덤하게 6개를 추출한다\n",
    "\n",
    "1. 1 ~ 45 자연수\n",
    "2. 랜덤 추출기\n",
    "'''\n",
    "\n",
    "import random\n",
    "\n",
    "random.sample(range(1, 46), 6)"
   ]
  }
 ],
 "metadata": {
  "kernelspec": {
   "display_name": "Python 3 (ipykernel)",
   "language": "python",
   "name": "python3"
  },
  "language_info": {
   "codemirror_mode": {
    "name": "ipython",
    "version": 3
   },
   "file_extension": ".py",
   "mimetype": "text/x-python",
   "name": "python",
   "nbconvert_exporter": "python",
   "pygments_lexer": "ipython3",
   "version": "3.10.10"
  }
 },
 "nbformat": 4,
 "nbformat_minor": 5
}
